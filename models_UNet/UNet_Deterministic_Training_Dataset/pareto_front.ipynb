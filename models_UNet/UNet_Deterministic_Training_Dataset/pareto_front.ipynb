{
 "cells": [
  {
   "cell_type": "code",
   "execution_count": 1,
   "id": "748287d1",
   "metadata": {},
   "outputs": [],
   "source": [
    "import re\n",
    "import pandas as pd\n",
    "import matplotlib.pyplot as plt\n",
    "\n",
    "log_path = \"/work/FAC/FGSE/IDYST/tbeucler/downscaling/sasthana/Downscaling/Downscaling_Models/logs/training/job_output-54039124.txt\"\n",
    "\n"
   ]
  },
  {
   "cell_type": "code",
   "execution_count": 2,
   "id": "7b8a9e1c",
   "metadata": {},
   "outputs": [],
   "source": [
    "trial_pattern = re.compile(r\"Trial (\\d+): Normalized weights used: \\[([^\\]]+)\\]\")\n",
    "val_loss_pattern = re.compile(r\"best_val_loss: ([\\deE\\.\\-]+)\")\n",
    "channel_loss_pattern = re.compile(r\"per_channel_val_loss.*\\[(.*?)\\]\")\n"
   ]
  },
  {
   "cell_type": "code",
   "execution_count": null,
   "id": "7fc3869d",
   "metadata": {},
   "outputs": [
    {
     "name": "stdout",
     "output_type": "stream",
     "text": [
      "RangeIndex(start=0, stop=0, step=1)\n"
     ]
    },
    {
     "ename": "KeyError",
     "evalue": "'precip_loss'",
     "output_type": "error",
     "traceback": [
      "\u001b[0;31m---------------------------------------------------------------------------\u001b[0m",
      "\u001b[0;31mKeyError\u001b[0m                                  Traceback (most recent call last)",
      "Cell \u001b[0;32mIn[5], line 35\u001b[0m\n\u001b[1;32m     33\u001b[0m \u001b[38;5;66;03m#Pareto front\u001b[39;00m\n\u001b[1;32m     34\u001b[0m plt\u001b[38;5;241m.\u001b[39mfigure(figsize\u001b[38;5;241m=\u001b[39m(\u001b[38;5;241m8\u001b[39m,\u001b[38;5;241m6\u001b[39m))\n\u001b[0;32m---> 35\u001b[0m plt\u001b[38;5;241m.\u001b[39mscatter(\u001b[43mdf\u001b[49m\u001b[43m[\u001b[49m\u001b[38;5;124;43m\"\u001b[39;49m\u001b[38;5;124;43mprecip_loss\u001b[39;49m\u001b[38;5;124;43m\"\u001b[39;49m\u001b[43m]\u001b[49m, df[\u001b[38;5;124m\"\u001b[39m\u001b[38;5;124mtotal_loss\u001b[39m\u001b[38;5;124m\"\u001b[39m], c\u001b[38;5;241m=\u001b[39m\u001b[38;5;124m\"\u001b[39m\u001b[38;5;124mblue\u001b[39m\u001b[38;5;124m\"\u001b[39m, label\u001b[38;5;241m=\u001b[39m\u001b[38;5;124m\"\u001b[39m\u001b[38;5;124mTrials\u001b[39m\u001b[38;5;124m\"\u001b[39m)\n\u001b[1;32m     36\u001b[0m plt\u001b[38;5;241m.\u001b[39mxlabel(\u001b[38;5;124m\"\u001b[39m\u001b[38;5;124mPrecipitation Channel Validation Loss\u001b[39m\u001b[38;5;124m\"\u001b[39m)\n\u001b[1;32m     37\u001b[0m plt\u001b[38;5;241m.\u001b[39mylabel(\u001b[38;5;124m\"\u001b[39m\u001b[38;5;124mTotal Validation Loss\u001b[39m\u001b[38;5;124m\"\u001b[39m)\n",
      "File \u001b[0;32m/work/FAC/FGSE/IDYST/tbeucler/downscaling/sasthana/MyPythonEnvNew/lib/python3.10/site-packages/pandas/core/frame.py:4102\u001b[0m, in \u001b[0;36mDataFrame.__getitem__\u001b[0;34m(self, key)\u001b[0m\n\u001b[1;32m   4100\u001b[0m \u001b[38;5;28;01mif\u001b[39;00m \u001b[38;5;28mself\u001b[39m\u001b[38;5;241m.\u001b[39mcolumns\u001b[38;5;241m.\u001b[39mnlevels \u001b[38;5;241m>\u001b[39m \u001b[38;5;241m1\u001b[39m:\n\u001b[1;32m   4101\u001b[0m     \u001b[38;5;28;01mreturn\u001b[39;00m \u001b[38;5;28mself\u001b[39m\u001b[38;5;241m.\u001b[39m_getitem_multilevel(key)\n\u001b[0;32m-> 4102\u001b[0m indexer \u001b[38;5;241m=\u001b[39m \u001b[38;5;28;43mself\u001b[39;49m\u001b[38;5;241;43m.\u001b[39;49m\u001b[43mcolumns\u001b[49m\u001b[38;5;241;43m.\u001b[39;49m\u001b[43mget_loc\u001b[49m\u001b[43m(\u001b[49m\u001b[43mkey\u001b[49m\u001b[43m)\u001b[49m\n\u001b[1;32m   4103\u001b[0m \u001b[38;5;28;01mif\u001b[39;00m is_integer(indexer):\n\u001b[1;32m   4104\u001b[0m     indexer \u001b[38;5;241m=\u001b[39m [indexer]\n",
      "File \u001b[0;32m/work/FAC/FGSE/IDYST/tbeucler/downscaling/sasthana/MyPythonEnvNew/lib/python3.10/site-packages/pandas/core/indexes/range.py:417\u001b[0m, in \u001b[0;36mRangeIndex.get_loc\u001b[0;34m(self, key)\u001b[0m\n\u001b[1;32m    415\u001b[0m         \u001b[38;5;28;01mraise\u001b[39;00m \u001b[38;5;167;01mKeyError\u001b[39;00m(key) \u001b[38;5;28;01mfrom\u001b[39;00m\u001b[38;5;250m \u001b[39m\u001b[38;5;21;01merr\u001b[39;00m\n\u001b[1;32m    416\u001b[0m \u001b[38;5;28;01mif\u001b[39;00m \u001b[38;5;28misinstance\u001b[39m(key, Hashable):\n\u001b[0;32m--> 417\u001b[0m     \u001b[38;5;28;01mraise\u001b[39;00m \u001b[38;5;167;01mKeyError\u001b[39;00m(key)\n\u001b[1;32m    418\u001b[0m \u001b[38;5;28mself\u001b[39m\u001b[38;5;241m.\u001b[39m_check_indexing_error(key)\n\u001b[1;32m    419\u001b[0m \u001b[38;5;28;01mraise\u001b[39;00m \u001b[38;5;167;01mKeyError\u001b[39;00m(key)\n",
      "\u001b[0;31mKeyError\u001b[0m: 'precip_loss'"
     ]
    },
    {
     "data": {
      "text/plain": [
       "<Figure size 800x600 with 0 Axes>"
      ]
     },
     "metadata": {},
     "output_type": "display_data"
    }
   ],
   "source": [
    "\n",
    "\n",
    "trials = []\n",
    "with open(log_path) as f:\n",
    "    lines = f.readlines()\n",
    "\n",
    "for i, line in enumerate(lines):\n",
    "    trial_match = trial_pattern.search(line)\n",
    "    if trial_match:\n",
    "        trial_num = int(trial_match.group(1))\n",
    "        weights = [float(w) for w in trial_match.group(2).split(\",\")]\n",
    "        # best_val_loss ,,per_channel_val_loss in following lines\n",
    "        best_val_loss = None\n",
    "        per_channel_val_loss = None\n",
    "        for j in range(i, min(i+20, len(lines))):\n",
    "            val_loss_match = val_loss_pattern.search(lines[j])\n",
    "            if val_loss_match:\n",
    "                best_val_loss = float(val_loss_match.group(1))\n",
    "            channel_loss_match = channel_loss_pattern.search(lines[j])\n",
    "            if channel_loss_match:\n",
    "                per_channel_val_loss = [float(x) for x in channel_loss_match.group(1).split(\",\")]\n",
    "            if best_val_loss is not None and per_channel_val_loss is not None:\n",
    "                break\n",
    "        if best_val_loss is not None and per_channel_val_loss is not None:\n",
    "            trials.append({\n",
    "                \"trial\": trial_num,\n",
    "                \"weights\": weights,\n",
    "                \"total_loss\": best_val_loss,\n",
    "                \"precip_loss\": per_channel_val_loss[0],\n",
    "                \"per_channel_val_loss\": per_channel_val_loss\n",
    "            })\n",
    "\n",
    "df = pd.DataFrame(trials)\n",
    "print(df.columns)\n",
    "\n",
    "\n",
    "#Pareto front\n",
    "plt.figure(figsize=(8,6))\n",
    "plt.scatter(df[\"precip_loss\"], df[\"total_loss\"], c=\"blue\", label=\"Trials\")\n",
    "plt.xlabel(\"Precipitation Channel Validation Loss\")\n",
    "plt.ylabel(\"Total Validation Loss\")\n",
    "plt.title(\"Optuna Pareto Front\")\n",
    "\n",
    "# Highlight best (minimum total loss)\n",
    "best_idx = df[\"total_loss\"].idxmin()\n",
    "plt.scatter(df.loc[best_idx, \"precip_loss\"], df.loc[best_idx, \"total_loss\"], c=\"red\", label=\"Best Total Loss\", s=100, marker=\"*\")\n",
    "\n",
    "# highlight best precip loss\n",
    "best_precip_idx = df[\"precip_loss\"].idxmin()\n",
    "plt.scatter(df.loc[best_precip_idx, \"precip_loss\"], df.loc[best_precip_idx, \"total_loss\"], c=\"gold\", label=\"Best Precip Loss\", s=100, marker=\"*\")\n",
    "\n",
    "plt.legend()\n",
    "plt.tight_layout()\n",
    "plt.savefig(\"optuna_pareto_front.png\", dpi=300)\n",
    "plt.show()\n",
    "\n",
    "df.to_csv(\"optuna_trials_table.csv\", index=False)\n",
    "print(df[[\"trial\", \"weights\", \"total_loss\", \"precip_loss\", \"per_channel_val_loss\"]])"
   ]
  }
 ],
 "metadata": {
  "kernelspec": {
   "display_name": "MyPythonEnvNew",
   "language": "python",
   "name": "python3"
  },
  "language_info": {
   "codemirror_mode": {
    "name": "ipython",
    "version": 3
   },
   "file_extension": ".py",
   "mimetype": "text/x-python",
   "name": "python",
   "nbconvert_exporter": "python",
   "pygments_lexer": "ipython3",
   "version": "3.10.17"
  }
 },
 "nbformat": 4,
 "nbformat_minor": 5
}
