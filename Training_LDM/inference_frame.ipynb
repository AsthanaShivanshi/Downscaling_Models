{
 "cells": [
  {
   "cell_type": "code",
   "execution_count": 5,
   "id": "e5bf3df2",
   "metadata": {},
   "outputs": [],
   "source": [
    "import sys\n",
    "sys.path.append(\"..\") #Parent \n",
    "sys.path.append(\"../..\") #grandparent\n",
    "import torch\n",
    "from models.components.ldm.denoiser import UNetModel\n",
    "from Training_LDM.DownscalingDataModule import DownscalingDataModule\n",
    "import random\n",
    "import matplotlib.pyplot as plt\n",
    "import numpy as np\n",
    "import torch.nn.functional as F\n",
    "import json\n"
   ]
  },
  {
   "cell_type": "code",
   "execution_count": 6,
   "id": "1c0913a8",
   "metadata": {},
   "outputs": [],
   "source": [
    "from models.components.unet import DownscalingUnetLightning \n",
    "from models.ae_module import AutoencoderKL\n",
    "from models.components.ae import SimpleConvEncoder, SimpleConvDecoder\n",
    "from models.ldm_module import LatentDiffusion"
   ]
  },
  {
   "cell_type": "code",
   "execution_count": 7,
   "id": "fa55b1a1",
   "metadata": {},
   "outputs": [],
   "source": [
    "#UNet ckpt path \n",
    "#ckpt_unet= \"trained_ckpts/Training_LDM.models.components.unet.DownscalingUnetLightning_checkpoint.ckpt\"\n",
    "ckpt_vae= \"trained_ckpts/Training_LDM.models.ae_module.AutoencoderKL_checkpoint.ckpt\"\n",
    "#ckpt_ldm= \"trained_ckpts/LDM_checkpoint.ckpt\""
   ]
  },
  {
   "cell_type": "code",
   "execution_count": 8,
   "id": "8c0a534a",
   "metadata": {},
   "outputs": [
    {
     "name": "stdout",
     "output_type": "stream",
     "text": [
      "VAE checkpoint layer shapes:\n",
      "encoder.net.0.proj.weight: torch.Size([64, 5, 1, 1])\n",
      "encoder.net.0.proj.bias: torch.Size([64])\n",
      "encoder.net.0.conv1.weight: torch.Size([64, 5, 3, 3])\n",
      "encoder.net.0.conv1.bias: torch.Size([64])\n",
      "encoder.net.0.conv2.weight: torch.Size([64, 64, 3, 3])\n",
      "encoder.net.0.conv2.bias: torch.Size([64])\n",
      "encoder.net.0.norm1.weight: torch.Size([5])\n",
      "encoder.net.0.norm1.bias: torch.Size([5])\n",
      "encoder.net.0.norm2.weight: torch.Size([64])\n",
      "encoder.net.0.norm2.bias: torch.Size([64])\n",
      "encoder.net.0.sequence.0.weight: torch.Size([5])\n",
      "encoder.net.0.sequence.0.bias: torch.Size([5])\n",
      "encoder.net.0.sequence.2.weight: torch.Size([64, 5, 3, 3])\n",
      "encoder.net.0.sequence.2.bias: torch.Size([64])\n",
      "encoder.net.0.sequence.3.weight: torch.Size([64])\n",
      "encoder.net.0.sequence.3.bias: torch.Size([64])\n",
      "encoder.net.0.sequence.5.weight: torch.Size([64, 64, 3, 3])\n",
      "encoder.net.0.sequence.5.bias: torch.Size([64])\n",
      "encoder.net.1.weight: torch.Size([64, 64, 2, 2])\n",
      "encoder.net.1.bias: torch.Size([64])\n",
      "decoder.net.0.weight: torch.Size([64, 16, 2, 2])\n",
      "decoder.net.0.bias: torch.Size([16])\n",
      "decoder.net.1.conv1.weight: torch.Size([16, 16, 3, 3])\n",
      "decoder.net.1.conv1.bias: torch.Size([16])\n",
      "decoder.net.1.conv2.weight: torch.Size([16, 16, 3, 3])\n",
      "decoder.net.1.conv2.bias: torch.Size([16])\n",
      "decoder.net.1.norm1.weight: torch.Size([16])\n",
      "decoder.net.1.norm1.bias: torch.Size([16])\n",
      "decoder.net.1.norm2.weight: torch.Size([16])\n",
      "decoder.net.1.norm2.bias: torch.Size([16])\n",
      "decoder.net.1.sequence.0.weight: torch.Size([16])\n",
      "decoder.net.1.sequence.0.bias: torch.Size([16])\n",
      "decoder.net.1.sequence.2.weight: torch.Size([16, 16, 3, 3])\n",
      "decoder.net.1.sequence.2.bias: torch.Size([16])\n",
      "decoder.net.1.sequence.3.weight: torch.Size([16])\n",
      "decoder.net.1.sequence.3.bias: torch.Size([16])\n",
      "decoder.net.1.sequence.5.weight: torch.Size([16, 16, 3, 3])\n",
      "decoder.net.1.sequence.5.bias: torch.Size([16])\n",
      "decoder.net.2.weight: torch.Size([16, 16, 2, 2])\n",
      "decoder.net.2.bias: torch.Size([16])\n",
      "decoder.net.3.conv1.weight: torch.Size([16, 16, 3, 3])\n",
      "decoder.net.3.conv1.bias: torch.Size([16])\n",
      "decoder.net.3.conv2.weight: torch.Size([16, 16, 3, 3])\n",
      "decoder.net.3.conv2.bias: torch.Size([16])\n",
      "decoder.net.3.norm1.weight: torch.Size([16])\n",
      "decoder.net.3.norm1.bias: torch.Size([16])\n",
      "decoder.net.3.norm2.weight: torch.Size([16])\n",
      "decoder.net.3.norm2.bias: torch.Size([16])\n",
      "decoder.net.3.sequence.0.weight: torch.Size([16])\n",
      "decoder.net.3.sequence.0.bias: torch.Size([16])\n",
      "decoder.net.3.sequence.2.weight: torch.Size([16, 16, 3, 3])\n",
      "decoder.net.3.sequence.2.bias: torch.Size([16])\n",
      "decoder.net.3.sequence.3.weight: torch.Size([16])\n",
      "decoder.net.3.sequence.3.bias: torch.Size([16])\n",
      "decoder.net.3.sequence.5.weight: torch.Size([16, 16, 3, 3])\n",
      "decoder.net.3.sequence.5.bias: torch.Size([16])\n",
      "decoder.net.4.weight: torch.Size([4, 16, 3, 3])\n",
      "decoder.net.4.bias: torch.Size([4])\n",
      "to_moments.weight: torch.Size([64, 64, 1, 1])\n",
      "to_moments.bias: torch.Size([64])\n",
      "to_decoder.weight: torch.Size([64, 32, 1, 1])\n",
      "to_decoder.bias: torch.Size([64])\n"
     ]
    }
   ],
   "source": [
    "vae_ckpt = torch.load(ckpt_vae, map_location=\"cpu\")\n",
    "\n",
    "print(\"VAE checkpoint layer shapes:\")\n",
    "for k, v in vae_ckpt['state_dict'].items():\n",
    "    print(f\"{k}: {v.shape}\")"
   ]
  },
  {
   "cell_type": "markdown",
   "id": "7bf27392",
   "metadata": {},
   "source": [
    "Instantiating the UNet"
   ]
  },
  {
   "cell_type": "markdown",
   "id": "5111afeb",
   "metadata": {},
   "source": [
    "Instantiating VAE"
   ]
  },
  {
   "cell_type": "code",
   "execution_count": 9,
   "id": "453e0fe7",
   "metadata": {},
   "outputs": [],
   "source": [
    "encoder = SimpleConvEncoder(in_dim=5, levels=1, min_ch=64, ch_mult=1)\n",
    "decoder = SimpleConvDecoder(in_dim=64, levels=2, min_ch=16)"
   ]
  },
  {
   "cell_type": "markdown",
   "id": "6f6173d1",
   "metadata": {},
   "source": [
    "VAE decoder needed to be softcoded to accept 4 output ch!!"
   ]
  },
  {
   "cell_type": "code",
   "execution_count": 10,
   "id": "dd105dbf",
   "metadata": {},
   "outputs": [
    {
     "name": "stdout",
     "output_type": "stream",
     "text": [
      "(self, in_dim=1, levels=2, min_ch=64, ch_mult: int = 4)\n"
     ]
    }
   ],
   "source": [
    "import inspect\n",
    "print(inspect.signature(SimpleConvDecoder.__init__))"
   ]
  },
  {
   "cell_type": "code",
   "execution_count": 11,
   "id": "b6839fc0",
   "metadata": {},
   "outputs": [],
   "source": [
    "model_VAE = AutoencoderKL.load_from_checkpoint(\n",
    "    ckpt_vae,\n",
    "    encoder=encoder,\n",
    "    decoder=decoder,\n",
    "    kl_weight=0.01,\n",
    "    strict=False \n",
    ")"
   ]
  },
  {
   "cell_type": "code",
   "execution_count": 12,
   "id": "e823aa7c",
   "metadata": {},
   "outputs": [
    {
     "name": "stdout",
     "output_type": "stream",
     "text": [
      "odict_keys(['encoder.net.0.proj.weight', 'encoder.net.0.proj.bias', 'encoder.net.0.conv1.weight', 'encoder.net.0.conv1.bias', 'encoder.net.0.conv2.weight', 'encoder.net.0.conv2.bias', 'encoder.net.0.norm1.weight', 'encoder.net.0.norm1.bias', 'encoder.net.0.norm2.weight', 'encoder.net.0.norm2.bias', 'encoder.net.0.sequence.0.weight', 'encoder.net.0.sequence.0.bias', 'encoder.net.0.sequence.2.weight', 'encoder.net.0.sequence.2.bias', 'encoder.net.0.sequence.3.weight', 'encoder.net.0.sequence.3.bias', 'encoder.net.0.sequence.5.weight', 'encoder.net.0.sequence.5.bias', 'encoder.net.1.weight', 'encoder.net.1.bias', 'decoder.net.0.weight', 'decoder.net.0.bias', 'decoder.net.1.conv1.weight', 'decoder.net.1.conv1.bias', 'decoder.net.1.conv2.weight', 'decoder.net.1.conv2.bias', 'decoder.net.1.norm1.weight', 'decoder.net.1.norm1.bias', 'decoder.net.1.norm2.weight', 'decoder.net.1.norm2.bias', 'decoder.net.1.sequence.0.weight', 'decoder.net.1.sequence.0.bias', 'decoder.net.1.sequence.2.weight', 'decoder.net.1.sequence.2.bias', 'decoder.net.1.sequence.3.weight', 'decoder.net.1.sequence.3.bias', 'decoder.net.1.sequence.5.weight', 'decoder.net.1.sequence.5.bias', 'decoder.net.2.weight', 'decoder.net.2.bias', 'decoder.net.3.conv1.weight', 'decoder.net.3.conv1.bias', 'decoder.net.3.conv2.weight', 'decoder.net.3.conv2.bias', 'decoder.net.3.norm1.weight', 'decoder.net.3.norm1.bias', 'decoder.net.3.norm2.weight', 'decoder.net.3.norm2.bias', 'decoder.net.3.sequence.0.weight', 'decoder.net.3.sequence.0.bias', 'decoder.net.3.sequence.2.weight', 'decoder.net.3.sequence.2.bias', 'decoder.net.3.sequence.3.weight', 'decoder.net.3.sequence.3.bias', 'decoder.net.3.sequence.5.weight', 'decoder.net.3.sequence.5.bias', 'decoder.net.4.weight', 'decoder.net.4.bias', 'to_moments.weight', 'to_moments.bias', 'to_decoder.weight', 'to_decoder.bias'])\n"
     ]
    }
   ],
   "source": [
    "print(model_VAE.state_dict().keys())"
   ]
  },
  {
   "cell_type": "code",
   "execution_count": 13,
   "id": "41ac01e1",
   "metadata": {},
   "outputs": [],
   "source": [
    "#Key mismatch, striiping the prefix unet_regr from the keys of the Unet ckpt for compatibility"
   ]
  },
  {
   "cell_type": "markdown",
   "id": "89f68ee2",
   "metadata": {},
   "source": [
    "Crucial else the following ckpts wont work!!!!!!"
   ]
  },
  {
   "cell_type": "markdown",
   "id": "ffaf8da5",
   "metadata": {},
   "source": [
    "Following code will not give a key mismatch error "
   ]
  },
  {
   "cell_type": "markdown",
   "id": "39129dde",
   "metadata": {},
   "source": [
    "LDM ckpt loading "
   ]
  },
  {
   "cell_type": "code",
   "execution_count": 22,
   "id": "d8729c64",
   "metadata": {},
   "outputs": [],
   "source": [
    "\n",
    "#instantiating denoiser within the LDM\n",
    "denoiser = UNetModel(\n",
    "    in_channels=32,  # adjust to your latent dim\n",
    "    out_channels=32,\n",
    "    model_channels=64,\n",
    "    num_res_blocks=2,\n",
    "    attention_resolutions=[1, 2, 4],\n",
    "    context_ch=None,\n",
    "    channel_mult=[1, 2, 4, 4],\n",
    "    conv_resample=True,\n",
    "    dims=2,\n",
    "    use_fp16=False,\n",
    "    num_heads=4\n",
    ")\n",
    "\n"
   ]
  },
  {
   "cell_type": "code",
   "execution_count": 23,
   "id": "cab414ca",
   "metadata": {},
   "outputs": [],
   "source": [
    "ckpt_ldm= \"trained_ckpts/LDM_checkpoint.ckpt\"\n",
    "ldm_ckpt = torch.load(ckpt_ldm, map_location=\"cpu\")"
   ]
  },
  {
   "cell_type": "code",
   "execution_count": 24,
   "id": "e180f6e5",
   "metadata": {},
   "outputs": [],
   "source": [
    "#instantiating LDM\n",
    "model_LDM = LatentDiffusion(\n",
    "    denoiser=denoiser,\n",
    "    autoencoder=model_VAE,\n",
    "    timesteps=1000,#torch.tensor for reference later\n",
    "    beta_schedule=\"linear\",\n",
    "    loss_type=\"l2\",\n",
    "    use_ema=True,\n",
    "    lr=1e-4,\n",
    "    lr_warmup=0,\n",
    "    linear_start=1e-4,\n",
    "    linear_end=2e-2,\n",
    "    cosine_s=8e-3,\n",
    "    parameterization=\"eps\"\n",
    ")\n"
   ]
  },
  {
   "cell_type": "code",
   "execution_count": 19,
   "id": "5e7f17f2",
   "metadata": {},
   "outputs": [],
   "source": [
    "#The keys within LDM ckpt also have to be renamed for compatibiltiy "
   ]
  },
  {
   "cell_type": "code",
   "execution_count": 25,
   "id": "859b85ec",
   "metadata": {},
   "outputs": [],
   "source": [
    "remapped_ldm_state_dict = {}\n",
    "for k, v in ldm_ckpt[\"state_dict\"].items():\n",
    "    # Remove both 'autoencoder.unet_regr.unet.' and 'autoencoder.unet_regr.' prefixes\n",
    "    if k.startswith(\"autoencoder.unet_regr.unet.\"):\n",
    "        new_key = \"autoencoder.unet.\" + k[len(\"autoencoder.unet_regr.unet.\"):]\n",
    "    elif k.startswith(\"autoencoder.unet_regr.\"):\n",
    "        new_key = \"autoencoder.unet.\" + k[len(\"autoencoder.unet_regr.\"):]\n",
    "    else:\n",
    "        new_key = k\n",
    "    remapped_ldm_state_dict[new_key] = v"
   ]
  },
  {
   "cell_type": "code",
   "execution_count": 26,
   "id": "c3575f8f",
   "metadata": {},
   "outputs": [
    {
     "data": {
      "text/plain": [
       "<All keys matched successfully>"
      ]
     },
     "execution_count": 26,
     "metadata": {},
     "output_type": "execute_result"
    }
   ],
   "source": [
    "model_LDM.load_state_dict(remapped_ldm_state_dict, strict=False)"
   ]
  },
  {
   "cell_type": "code",
   "execution_count": 27,
   "id": "4a71956a",
   "metadata": {},
   "outputs": [
    {
     "name": "stdout",
     "output_type": "stream",
     "text": [
      "odict_keys(['betas', 'alphas_cumprod', 'alphas_cumprod_prev', 'sqrt_alphas_cumprod', 'sqrt_one_minus_alphas_cumprod', 'denoiser.time_embed.0.weight', 'denoiser.time_embed.0.bias', 'denoiser.time_embed.2.weight', 'denoiser.time_embed.2.bias', 'denoiser.input_blocks.0.0.weight', 'denoiser.input_blocks.0.0.bias', 'denoiser.input_blocks.1.0.in_layers.2.weight', 'denoiser.input_blocks.1.0.in_layers.2.bias', 'denoiser.input_blocks.1.0.emb_layers.1.weight', 'denoiser.input_blocks.1.0.emb_layers.1.bias', 'denoiser.input_blocks.1.0.out_layers.3.weight', 'denoiser.input_blocks.1.0.out_layers.3.bias', 'denoiser.input_blocks.2.0.in_layers.2.weight', 'denoiser.input_blocks.2.0.in_layers.2.bias', 'denoiser.input_blocks.2.0.emb_layers.1.weight', 'denoiser.input_blocks.2.0.emb_layers.1.bias', 'denoiser.input_blocks.2.0.out_layers.3.weight', 'denoiser.input_blocks.2.0.out_layers.3.bias', 'denoiser.input_blocks.3.0.op.weight', 'denoiser.input_blocks.3.0.op.bias', 'denoiser.input_blocks.4.0.in_layers.2.weight', 'denoiser.input_blocks.4.0.in_layers.2.bias', 'denoiser.input_blocks.4.0.emb_layers.1.weight', 'denoiser.input_blocks.4.0.emb_layers.1.bias', 'denoiser.input_blocks.4.0.out_layers.3.weight', 'denoiser.input_blocks.4.0.out_layers.3.bias', 'denoiser.input_blocks.4.0.skip_connection.weight', 'denoiser.input_blocks.4.0.skip_connection.bias', 'denoiser.input_blocks.5.0.in_layers.2.weight', 'denoiser.input_blocks.5.0.in_layers.2.bias', 'denoiser.input_blocks.5.0.emb_layers.1.weight', 'denoiser.input_blocks.5.0.emb_layers.1.bias', 'denoiser.input_blocks.5.0.out_layers.3.weight', 'denoiser.input_blocks.5.0.out_layers.3.bias', 'denoiser.input_blocks.6.0.op.weight', 'denoiser.input_blocks.6.0.op.bias', 'denoiser.input_blocks.7.0.in_layers.2.weight', 'denoiser.input_blocks.7.0.in_layers.2.bias', 'denoiser.input_blocks.7.0.emb_layers.1.weight', 'denoiser.input_blocks.7.0.emb_layers.1.bias', 'denoiser.input_blocks.7.0.out_layers.3.weight', 'denoiser.input_blocks.7.0.out_layers.3.bias', 'denoiser.input_blocks.7.0.skip_connection.weight', 'denoiser.input_blocks.7.0.skip_connection.bias', 'denoiser.input_blocks.8.0.in_layers.2.weight', 'denoiser.input_blocks.8.0.in_layers.2.bias', 'denoiser.input_blocks.8.0.emb_layers.1.weight', 'denoiser.input_blocks.8.0.emb_layers.1.bias', 'denoiser.input_blocks.8.0.out_layers.3.weight', 'denoiser.input_blocks.8.0.out_layers.3.bias', 'denoiser.input_blocks.9.0.op.weight', 'denoiser.input_blocks.9.0.op.bias', 'denoiser.input_blocks.10.0.in_layers.2.weight', 'denoiser.input_blocks.10.0.in_layers.2.bias', 'denoiser.input_blocks.10.0.emb_layers.1.weight', 'denoiser.input_blocks.10.0.emb_layers.1.bias', 'denoiser.input_blocks.10.0.out_layers.3.weight', 'denoiser.input_blocks.10.0.out_layers.3.bias', 'denoiser.input_blocks.11.0.in_layers.2.weight', 'denoiser.input_blocks.11.0.in_layers.2.bias', 'denoiser.input_blocks.11.0.emb_layers.1.weight', 'denoiser.input_blocks.11.0.emb_layers.1.bias', 'denoiser.input_blocks.11.0.out_layers.3.weight', 'denoiser.input_blocks.11.0.out_layers.3.bias', 'denoiser.middle_block.0.in_layers.2.weight', 'denoiser.middle_block.0.in_layers.2.bias', 'denoiser.middle_block.0.emb_layers.1.weight', 'denoiser.middle_block.0.emb_layers.1.bias', 'denoiser.middle_block.0.out_layers.3.weight', 'denoiser.middle_block.0.out_layers.3.bias', 'denoiser.middle_block.1.in_layers.2.weight', 'denoiser.middle_block.1.in_layers.2.bias', 'denoiser.middle_block.1.emb_layers.1.weight', 'denoiser.middle_block.1.emb_layers.1.bias', 'denoiser.middle_block.1.out_layers.3.weight', 'denoiser.middle_block.1.out_layers.3.bias', 'denoiser.output_blocks.0.0.in_layers.2.weight', 'denoiser.output_blocks.0.0.in_layers.2.bias', 'denoiser.output_blocks.0.0.emb_layers.1.weight', 'denoiser.output_blocks.0.0.emb_layers.1.bias', 'denoiser.output_blocks.0.0.out_layers.3.weight', 'denoiser.output_blocks.0.0.out_layers.3.bias', 'denoiser.output_blocks.0.0.skip_connection.weight', 'denoiser.output_blocks.0.0.skip_connection.bias', 'denoiser.output_blocks.1.0.in_layers.2.weight', 'denoiser.output_blocks.1.0.in_layers.2.bias', 'denoiser.output_blocks.1.0.emb_layers.1.weight', 'denoiser.output_blocks.1.0.emb_layers.1.bias', 'denoiser.output_blocks.1.0.out_layers.3.weight', 'denoiser.output_blocks.1.0.out_layers.3.bias', 'denoiser.output_blocks.1.0.skip_connection.weight', 'denoiser.output_blocks.1.0.skip_connection.bias', 'denoiser.output_blocks.2.0.in_layers.2.weight', 'denoiser.output_blocks.2.0.in_layers.2.bias', 'denoiser.output_blocks.2.0.emb_layers.1.weight', 'denoiser.output_blocks.2.0.emb_layers.1.bias', 'denoiser.output_blocks.2.0.out_layers.3.weight', 'denoiser.output_blocks.2.0.out_layers.3.bias', 'denoiser.output_blocks.2.0.skip_connection.weight', 'denoiser.output_blocks.2.0.skip_connection.bias', 'denoiser.output_blocks.2.1.conv.weight', 'denoiser.output_blocks.2.1.conv.bias', 'denoiser.output_blocks.3.0.in_layers.2.weight', 'denoiser.output_blocks.3.0.in_layers.2.bias', 'denoiser.output_blocks.3.0.emb_layers.1.weight', 'denoiser.output_blocks.3.0.emb_layers.1.bias', 'denoiser.output_blocks.3.0.out_layers.3.weight', 'denoiser.output_blocks.3.0.out_layers.3.bias', 'denoiser.output_blocks.3.0.skip_connection.weight', 'denoiser.output_blocks.3.0.skip_connection.bias', 'denoiser.output_blocks.4.0.in_layers.2.weight', 'denoiser.output_blocks.4.0.in_layers.2.bias', 'denoiser.output_blocks.4.0.emb_layers.1.weight', 'denoiser.output_blocks.4.0.emb_layers.1.bias', 'denoiser.output_blocks.4.0.out_layers.3.weight', 'denoiser.output_blocks.4.0.out_layers.3.bias', 'denoiser.output_blocks.4.0.skip_connection.weight', 'denoiser.output_blocks.4.0.skip_connection.bias', 'denoiser.output_blocks.5.0.in_layers.2.weight', 'denoiser.output_blocks.5.0.in_layers.2.bias', 'denoiser.output_blocks.5.0.emb_layers.1.weight', 'denoiser.output_blocks.5.0.emb_layers.1.bias', 'denoiser.output_blocks.5.0.out_layers.3.weight', 'denoiser.output_blocks.5.0.out_layers.3.bias', 'denoiser.output_blocks.5.0.skip_connection.weight', 'denoiser.output_blocks.5.0.skip_connection.bias', 'denoiser.output_blocks.5.1.conv.weight', 'denoiser.output_blocks.5.1.conv.bias', 'denoiser.output_blocks.6.0.in_layers.2.weight', 'denoiser.output_blocks.6.0.in_layers.2.bias', 'denoiser.output_blocks.6.0.emb_layers.1.weight', 'denoiser.output_blocks.6.0.emb_layers.1.bias', 'denoiser.output_blocks.6.0.out_layers.3.weight', 'denoiser.output_blocks.6.0.out_layers.3.bias', 'denoiser.output_blocks.6.0.skip_connection.weight', 'denoiser.output_blocks.6.0.skip_connection.bias', 'denoiser.output_blocks.7.0.in_layers.2.weight', 'denoiser.output_blocks.7.0.in_layers.2.bias', 'denoiser.output_blocks.7.0.emb_layers.1.weight', 'denoiser.output_blocks.7.0.emb_layers.1.bias', 'denoiser.output_blocks.7.0.out_layers.3.weight', 'denoiser.output_blocks.7.0.out_layers.3.bias', 'denoiser.output_blocks.7.0.skip_connection.weight', 'denoiser.output_blocks.7.0.skip_connection.bias', 'denoiser.output_blocks.8.0.in_layers.2.weight', 'denoiser.output_blocks.8.0.in_layers.2.bias', 'denoiser.output_blocks.8.0.emb_layers.1.weight', 'denoiser.output_blocks.8.0.emb_layers.1.bias', 'denoiser.output_blocks.8.0.out_layers.3.weight', 'denoiser.output_blocks.8.0.out_layers.3.bias', 'denoiser.output_blocks.8.0.skip_connection.weight', 'denoiser.output_blocks.8.0.skip_connection.bias', 'denoiser.output_blocks.8.1.conv.weight', 'denoiser.output_blocks.8.1.conv.bias', 'denoiser.output_blocks.9.0.in_layers.2.weight', 'denoiser.output_blocks.9.0.in_layers.2.bias', 'denoiser.output_blocks.9.0.emb_layers.1.weight', 'denoiser.output_blocks.9.0.emb_layers.1.bias', 'denoiser.output_blocks.9.0.out_layers.3.weight', 'denoiser.output_blocks.9.0.out_layers.3.bias', 'denoiser.output_blocks.9.0.skip_connection.weight', 'denoiser.output_blocks.9.0.skip_connection.bias', 'denoiser.output_blocks.10.0.in_layers.2.weight', 'denoiser.output_blocks.10.0.in_layers.2.bias', 'denoiser.output_blocks.10.0.emb_layers.1.weight', 'denoiser.output_blocks.10.0.emb_layers.1.bias', 'denoiser.output_blocks.10.0.out_layers.3.weight', 'denoiser.output_blocks.10.0.out_layers.3.bias', 'denoiser.output_blocks.10.0.skip_connection.weight', 'denoiser.output_blocks.10.0.skip_connection.bias', 'denoiser.output_blocks.11.0.in_layers.2.weight', 'denoiser.output_blocks.11.0.in_layers.2.bias', 'denoiser.output_blocks.11.0.emb_layers.1.weight', 'denoiser.output_blocks.11.0.emb_layers.1.bias', 'denoiser.output_blocks.11.0.out_layers.3.weight', 'denoiser.output_blocks.11.0.out_layers.3.bias', 'denoiser.output_blocks.11.0.skip_connection.weight', 'denoiser.output_blocks.11.0.skip_connection.bias', 'denoiser.out.2.weight', 'denoiser.out.2.bias', 'autoencoder.encoder.net.0.proj.weight', 'autoencoder.encoder.net.0.proj.bias', 'autoencoder.encoder.net.0.conv1.weight', 'autoencoder.encoder.net.0.conv1.bias', 'autoencoder.encoder.net.0.conv2.weight', 'autoencoder.encoder.net.0.conv2.bias', 'autoencoder.encoder.net.0.norm1.weight', 'autoencoder.encoder.net.0.norm1.bias', 'autoencoder.encoder.net.0.norm2.weight', 'autoencoder.encoder.net.0.norm2.bias', 'autoencoder.encoder.net.0.sequence.0.weight', 'autoencoder.encoder.net.0.sequence.0.bias', 'autoencoder.encoder.net.0.sequence.2.weight', 'autoencoder.encoder.net.0.sequence.2.bias', 'autoencoder.encoder.net.0.sequence.3.weight', 'autoencoder.encoder.net.0.sequence.3.bias', 'autoencoder.encoder.net.0.sequence.5.weight', 'autoencoder.encoder.net.0.sequence.5.bias', 'autoencoder.encoder.net.1.weight', 'autoencoder.encoder.net.1.bias', 'autoencoder.decoder.net.0.weight', 'autoencoder.decoder.net.0.bias', 'autoencoder.decoder.net.1.conv1.weight', 'autoencoder.decoder.net.1.conv1.bias', 'autoencoder.decoder.net.1.conv2.weight', 'autoencoder.decoder.net.1.conv2.bias', 'autoencoder.decoder.net.1.norm1.weight', 'autoencoder.decoder.net.1.norm1.bias', 'autoencoder.decoder.net.1.norm2.weight', 'autoencoder.decoder.net.1.norm2.bias', 'autoencoder.decoder.net.1.sequence.0.weight', 'autoencoder.decoder.net.1.sequence.0.bias', 'autoencoder.decoder.net.1.sequence.2.weight', 'autoencoder.decoder.net.1.sequence.2.bias', 'autoencoder.decoder.net.1.sequence.3.weight', 'autoencoder.decoder.net.1.sequence.3.bias', 'autoencoder.decoder.net.1.sequence.5.weight', 'autoencoder.decoder.net.1.sequence.5.bias', 'autoencoder.decoder.net.2.weight', 'autoencoder.decoder.net.2.bias', 'autoencoder.decoder.net.3.conv1.weight', 'autoencoder.decoder.net.3.conv1.bias', 'autoencoder.decoder.net.3.conv2.weight', 'autoencoder.decoder.net.3.conv2.bias', 'autoencoder.decoder.net.3.norm1.weight', 'autoencoder.decoder.net.3.norm1.bias', 'autoencoder.decoder.net.3.norm2.weight', 'autoencoder.decoder.net.3.norm2.bias', 'autoencoder.decoder.net.3.sequence.0.weight', 'autoencoder.decoder.net.3.sequence.0.bias', 'autoencoder.decoder.net.3.sequence.2.weight', 'autoencoder.decoder.net.3.sequence.2.bias', 'autoencoder.decoder.net.3.sequence.3.weight', 'autoencoder.decoder.net.3.sequence.3.bias', 'autoencoder.decoder.net.3.sequence.5.weight', 'autoencoder.decoder.net.3.sequence.5.bias', 'autoencoder.decoder.net.4.weight', 'autoencoder.decoder.net.4.bias', 'autoencoder.to_moments.weight', 'autoencoder.to_moments.bias', 'autoencoder.to_decoder.weight', 'autoencoder.to_decoder.bias', 'denoiser_ema.decay', 'denoiser_ema.num_updates', 'denoiser_ema.time_embed0weight', 'denoiser_ema.time_embed0bias', 'denoiser_ema.time_embed2weight', 'denoiser_ema.time_embed2bias', 'denoiser_ema.input_blocks00weight', 'denoiser_ema.input_blocks00bias', 'denoiser_ema.input_blocks10in_layers2weight', 'denoiser_ema.input_blocks10in_layers2bias', 'denoiser_ema.input_blocks10emb_layers1weight', 'denoiser_ema.input_blocks10emb_layers1bias', 'denoiser_ema.input_blocks10out_layers3weight', 'denoiser_ema.input_blocks10out_layers3bias', 'denoiser_ema.input_blocks20in_layers2weight', 'denoiser_ema.input_blocks20in_layers2bias', 'denoiser_ema.input_blocks20emb_layers1weight', 'denoiser_ema.input_blocks20emb_layers1bias', 'denoiser_ema.input_blocks20out_layers3weight', 'denoiser_ema.input_blocks20out_layers3bias', 'denoiser_ema.input_blocks30opweight', 'denoiser_ema.input_blocks30opbias', 'denoiser_ema.input_blocks40in_layers2weight', 'denoiser_ema.input_blocks40in_layers2bias', 'denoiser_ema.input_blocks40emb_layers1weight', 'denoiser_ema.input_blocks40emb_layers1bias', 'denoiser_ema.input_blocks40out_layers3weight', 'denoiser_ema.input_blocks40out_layers3bias', 'denoiser_ema.input_blocks40skip_connectionweight', 'denoiser_ema.input_blocks40skip_connectionbias', 'denoiser_ema.input_blocks50in_layers2weight', 'denoiser_ema.input_blocks50in_layers2bias', 'denoiser_ema.input_blocks50emb_layers1weight', 'denoiser_ema.input_blocks50emb_layers1bias', 'denoiser_ema.input_blocks50out_layers3weight', 'denoiser_ema.input_blocks50out_layers3bias', 'denoiser_ema.input_blocks60opweight', 'denoiser_ema.input_blocks60opbias', 'denoiser_ema.input_blocks70in_layers2weight', 'denoiser_ema.input_blocks70in_layers2bias', 'denoiser_ema.input_blocks70emb_layers1weight', 'denoiser_ema.input_blocks70emb_layers1bias', 'denoiser_ema.input_blocks70out_layers3weight', 'denoiser_ema.input_blocks70out_layers3bias', 'denoiser_ema.input_blocks70skip_connectionweight', 'denoiser_ema.input_blocks70skip_connectionbias', 'denoiser_ema.input_blocks80in_layers2weight', 'denoiser_ema.input_blocks80in_layers2bias', 'denoiser_ema.input_blocks80emb_layers1weight', 'denoiser_ema.input_blocks80emb_layers1bias', 'denoiser_ema.input_blocks80out_layers3weight', 'denoiser_ema.input_blocks80out_layers3bias', 'denoiser_ema.input_blocks90opweight', 'denoiser_ema.input_blocks90opbias', 'denoiser_ema.input_blocks100in_layers2weight', 'denoiser_ema.input_blocks100in_layers2bias', 'denoiser_ema.input_blocks100emb_layers1weight', 'denoiser_ema.input_blocks100emb_layers1bias', 'denoiser_ema.input_blocks100out_layers3weight', 'denoiser_ema.input_blocks100out_layers3bias', 'denoiser_ema.input_blocks110in_layers2weight', 'denoiser_ema.input_blocks110in_layers2bias', 'denoiser_ema.input_blocks110emb_layers1weight', 'denoiser_ema.input_blocks110emb_layers1bias', 'denoiser_ema.input_blocks110out_layers3weight', 'denoiser_ema.input_blocks110out_layers3bias', 'denoiser_ema.middle_block0in_layers2weight', 'denoiser_ema.middle_block0in_layers2bias', 'denoiser_ema.middle_block0emb_layers1weight', 'denoiser_ema.middle_block0emb_layers1bias', 'denoiser_ema.middle_block0out_layers3weight', 'denoiser_ema.middle_block0out_layers3bias', 'denoiser_ema.middle_block1in_layers2weight', 'denoiser_ema.middle_block1in_layers2bias', 'denoiser_ema.middle_block1emb_layers1weight', 'denoiser_ema.middle_block1emb_layers1bias', 'denoiser_ema.middle_block1out_layers3weight', 'denoiser_ema.middle_block1out_layers3bias', 'denoiser_ema.output_blocks00in_layers2weight', 'denoiser_ema.output_blocks00in_layers2bias', 'denoiser_ema.output_blocks00emb_layers1weight', 'denoiser_ema.output_blocks00emb_layers1bias', 'denoiser_ema.output_blocks00out_layers3weight', 'denoiser_ema.output_blocks00out_layers3bias', 'denoiser_ema.output_blocks00skip_connectionweight', 'denoiser_ema.output_blocks00skip_connectionbias', 'denoiser_ema.output_blocks10in_layers2weight', 'denoiser_ema.output_blocks10in_layers2bias', 'denoiser_ema.output_blocks10emb_layers1weight', 'denoiser_ema.output_blocks10emb_layers1bias', 'denoiser_ema.output_blocks10out_layers3weight', 'denoiser_ema.output_blocks10out_layers3bias', 'denoiser_ema.output_blocks10skip_connectionweight', 'denoiser_ema.output_blocks10skip_connectionbias', 'denoiser_ema.output_blocks20in_layers2weight', 'denoiser_ema.output_blocks20in_layers2bias', 'denoiser_ema.output_blocks20emb_layers1weight', 'denoiser_ema.output_blocks20emb_layers1bias', 'denoiser_ema.output_blocks20out_layers3weight', 'denoiser_ema.output_blocks20out_layers3bias', 'denoiser_ema.output_blocks20skip_connectionweight', 'denoiser_ema.output_blocks20skip_connectionbias', 'denoiser_ema.output_blocks21convweight', 'denoiser_ema.output_blocks21convbias', 'denoiser_ema.output_blocks30in_layers2weight', 'denoiser_ema.output_blocks30in_layers2bias', 'denoiser_ema.output_blocks30emb_layers1weight', 'denoiser_ema.output_blocks30emb_layers1bias', 'denoiser_ema.output_blocks30out_layers3weight', 'denoiser_ema.output_blocks30out_layers3bias', 'denoiser_ema.output_blocks30skip_connectionweight', 'denoiser_ema.output_blocks30skip_connectionbias', 'denoiser_ema.output_blocks40in_layers2weight', 'denoiser_ema.output_blocks40in_layers2bias', 'denoiser_ema.output_blocks40emb_layers1weight', 'denoiser_ema.output_blocks40emb_layers1bias', 'denoiser_ema.output_blocks40out_layers3weight', 'denoiser_ema.output_blocks40out_layers3bias', 'denoiser_ema.output_blocks40skip_connectionweight', 'denoiser_ema.output_blocks40skip_connectionbias', 'denoiser_ema.output_blocks50in_layers2weight', 'denoiser_ema.output_blocks50in_layers2bias', 'denoiser_ema.output_blocks50emb_layers1weight', 'denoiser_ema.output_blocks50emb_layers1bias', 'denoiser_ema.output_blocks50out_layers3weight', 'denoiser_ema.output_blocks50out_layers3bias', 'denoiser_ema.output_blocks50skip_connectionweight', 'denoiser_ema.output_blocks50skip_connectionbias', 'denoiser_ema.output_blocks51convweight', 'denoiser_ema.output_blocks51convbias', 'denoiser_ema.output_blocks60in_layers2weight', 'denoiser_ema.output_blocks60in_layers2bias', 'denoiser_ema.output_blocks60emb_layers1weight', 'denoiser_ema.output_blocks60emb_layers1bias', 'denoiser_ema.output_blocks60out_layers3weight', 'denoiser_ema.output_blocks60out_layers3bias', 'denoiser_ema.output_blocks60skip_connectionweight', 'denoiser_ema.output_blocks60skip_connectionbias', 'denoiser_ema.output_blocks70in_layers2weight', 'denoiser_ema.output_blocks70in_layers2bias', 'denoiser_ema.output_blocks70emb_layers1weight', 'denoiser_ema.output_blocks70emb_layers1bias', 'denoiser_ema.output_blocks70out_layers3weight', 'denoiser_ema.output_blocks70out_layers3bias', 'denoiser_ema.output_blocks70skip_connectionweight', 'denoiser_ema.output_blocks70skip_connectionbias', 'denoiser_ema.output_blocks80in_layers2weight', 'denoiser_ema.output_blocks80in_layers2bias', 'denoiser_ema.output_blocks80emb_layers1weight', 'denoiser_ema.output_blocks80emb_layers1bias', 'denoiser_ema.output_blocks80out_layers3weight', 'denoiser_ema.output_blocks80out_layers3bias', 'denoiser_ema.output_blocks80skip_connectionweight', 'denoiser_ema.output_blocks80skip_connectionbias', 'denoiser_ema.output_blocks81convweight', 'denoiser_ema.output_blocks81convbias', 'denoiser_ema.output_blocks90in_layers2weight', 'denoiser_ema.output_blocks90in_layers2bias', 'denoiser_ema.output_blocks90emb_layers1weight', 'denoiser_ema.output_blocks90emb_layers1bias', 'denoiser_ema.output_blocks90out_layers3weight', 'denoiser_ema.output_blocks90out_layers3bias', 'denoiser_ema.output_blocks90skip_connectionweight', 'denoiser_ema.output_blocks90skip_connectionbias', 'denoiser_ema.output_blocks100in_layers2weight', 'denoiser_ema.output_blocks100in_layers2bias', 'denoiser_ema.output_blocks100emb_layers1weight', 'denoiser_ema.output_blocks100emb_layers1bias', 'denoiser_ema.output_blocks100out_layers3weight', 'denoiser_ema.output_blocks100out_layers3bias', 'denoiser_ema.output_blocks100skip_connectionweight', 'denoiser_ema.output_blocks100skip_connectionbias', 'denoiser_ema.output_blocks110in_layers2weight', 'denoiser_ema.output_blocks110in_layers2bias', 'denoiser_ema.output_blocks110emb_layers1weight', 'denoiser_ema.output_blocks110emb_layers1bias', 'denoiser_ema.output_blocks110out_layers3weight', 'denoiser_ema.output_blocks110out_layers3bias', 'denoiser_ema.output_blocks110skip_connectionweight', 'denoiser_ema.output_blocks110skip_connectionbias', 'denoiser_ema.out2weight', 'denoiser_ema.out2bias'])\n",
      "dict_keys(['betas', 'alphas_cumprod', 'alphas_cumprod_prev', 'sqrt_alphas_cumprod', 'sqrt_one_minus_alphas_cumprod', 'denoiser.time_embed.0.weight', 'denoiser.time_embed.0.bias', 'denoiser.time_embed.2.weight', 'denoiser.time_embed.2.bias', 'denoiser.input_blocks.0.0.weight', 'denoiser.input_blocks.0.0.bias', 'denoiser.input_blocks.1.0.in_layers.2.weight', 'denoiser.input_blocks.1.0.in_layers.2.bias', 'denoiser.input_blocks.1.0.emb_layers.1.weight', 'denoiser.input_blocks.1.0.emb_layers.1.bias', 'denoiser.input_blocks.1.0.out_layers.3.weight', 'denoiser.input_blocks.1.0.out_layers.3.bias', 'denoiser.input_blocks.2.0.in_layers.2.weight', 'denoiser.input_blocks.2.0.in_layers.2.bias', 'denoiser.input_blocks.2.0.emb_layers.1.weight', 'denoiser.input_blocks.2.0.emb_layers.1.bias', 'denoiser.input_blocks.2.0.out_layers.3.weight', 'denoiser.input_blocks.2.0.out_layers.3.bias', 'denoiser.input_blocks.3.0.op.weight', 'denoiser.input_blocks.3.0.op.bias', 'denoiser.input_blocks.4.0.in_layers.2.weight', 'denoiser.input_blocks.4.0.in_layers.2.bias', 'denoiser.input_blocks.4.0.emb_layers.1.weight', 'denoiser.input_blocks.4.0.emb_layers.1.bias', 'denoiser.input_blocks.4.0.out_layers.3.weight', 'denoiser.input_blocks.4.0.out_layers.3.bias', 'denoiser.input_blocks.4.0.skip_connection.weight', 'denoiser.input_blocks.4.0.skip_connection.bias', 'denoiser.input_blocks.5.0.in_layers.2.weight', 'denoiser.input_blocks.5.0.in_layers.2.bias', 'denoiser.input_blocks.5.0.emb_layers.1.weight', 'denoiser.input_blocks.5.0.emb_layers.1.bias', 'denoiser.input_blocks.5.0.out_layers.3.weight', 'denoiser.input_blocks.5.0.out_layers.3.bias', 'denoiser.input_blocks.6.0.op.weight', 'denoiser.input_blocks.6.0.op.bias', 'denoiser.input_blocks.7.0.in_layers.2.weight', 'denoiser.input_blocks.7.0.in_layers.2.bias', 'denoiser.input_blocks.7.0.emb_layers.1.weight', 'denoiser.input_blocks.7.0.emb_layers.1.bias', 'denoiser.input_blocks.7.0.out_layers.3.weight', 'denoiser.input_blocks.7.0.out_layers.3.bias', 'denoiser.input_blocks.7.0.skip_connection.weight', 'denoiser.input_blocks.7.0.skip_connection.bias', 'denoiser.input_blocks.8.0.in_layers.2.weight', 'denoiser.input_blocks.8.0.in_layers.2.bias', 'denoiser.input_blocks.8.0.emb_layers.1.weight', 'denoiser.input_blocks.8.0.emb_layers.1.bias', 'denoiser.input_blocks.8.0.out_layers.3.weight', 'denoiser.input_blocks.8.0.out_layers.3.bias', 'denoiser.input_blocks.9.0.op.weight', 'denoiser.input_blocks.9.0.op.bias', 'denoiser.input_blocks.10.0.in_layers.2.weight', 'denoiser.input_blocks.10.0.in_layers.2.bias', 'denoiser.input_blocks.10.0.emb_layers.1.weight', 'denoiser.input_blocks.10.0.emb_layers.1.bias', 'denoiser.input_blocks.10.0.out_layers.3.weight', 'denoiser.input_blocks.10.0.out_layers.3.bias', 'denoiser.input_blocks.11.0.in_layers.2.weight', 'denoiser.input_blocks.11.0.in_layers.2.bias', 'denoiser.input_blocks.11.0.emb_layers.1.weight', 'denoiser.input_blocks.11.0.emb_layers.1.bias', 'denoiser.input_blocks.11.0.out_layers.3.weight', 'denoiser.input_blocks.11.0.out_layers.3.bias', 'denoiser.middle_block.0.in_layers.2.weight', 'denoiser.middle_block.0.in_layers.2.bias', 'denoiser.middle_block.0.emb_layers.1.weight', 'denoiser.middle_block.0.emb_layers.1.bias', 'denoiser.middle_block.0.out_layers.3.weight', 'denoiser.middle_block.0.out_layers.3.bias', 'denoiser.middle_block.1.in_layers.2.weight', 'denoiser.middle_block.1.in_layers.2.bias', 'denoiser.middle_block.1.emb_layers.1.weight', 'denoiser.middle_block.1.emb_layers.1.bias', 'denoiser.middle_block.1.out_layers.3.weight', 'denoiser.middle_block.1.out_layers.3.bias', 'denoiser.output_blocks.0.0.in_layers.2.weight', 'denoiser.output_blocks.0.0.in_layers.2.bias', 'denoiser.output_blocks.0.0.emb_layers.1.weight', 'denoiser.output_blocks.0.0.emb_layers.1.bias', 'denoiser.output_blocks.0.0.out_layers.3.weight', 'denoiser.output_blocks.0.0.out_layers.3.bias', 'denoiser.output_blocks.0.0.skip_connection.weight', 'denoiser.output_blocks.0.0.skip_connection.bias', 'denoiser.output_blocks.1.0.in_layers.2.weight', 'denoiser.output_blocks.1.0.in_layers.2.bias', 'denoiser.output_blocks.1.0.emb_layers.1.weight', 'denoiser.output_blocks.1.0.emb_layers.1.bias', 'denoiser.output_blocks.1.0.out_layers.3.weight', 'denoiser.output_blocks.1.0.out_layers.3.bias', 'denoiser.output_blocks.1.0.skip_connection.weight', 'denoiser.output_blocks.1.0.skip_connection.bias', 'denoiser.output_blocks.2.0.in_layers.2.weight', 'denoiser.output_blocks.2.0.in_layers.2.bias', 'denoiser.output_blocks.2.0.emb_layers.1.weight', 'denoiser.output_blocks.2.0.emb_layers.1.bias', 'denoiser.output_blocks.2.0.out_layers.3.weight', 'denoiser.output_blocks.2.0.out_layers.3.bias', 'denoiser.output_blocks.2.0.skip_connection.weight', 'denoiser.output_blocks.2.0.skip_connection.bias', 'denoiser.output_blocks.2.1.conv.weight', 'denoiser.output_blocks.2.1.conv.bias', 'denoiser.output_blocks.3.0.in_layers.2.weight', 'denoiser.output_blocks.3.0.in_layers.2.bias', 'denoiser.output_blocks.3.0.emb_layers.1.weight', 'denoiser.output_blocks.3.0.emb_layers.1.bias', 'denoiser.output_blocks.3.0.out_layers.3.weight', 'denoiser.output_blocks.3.0.out_layers.3.bias', 'denoiser.output_blocks.3.0.skip_connection.weight', 'denoiser.output_blocks.3.0.skip_connection.bias', 'denoiser.output_blocks.4.0.in_layers.2.weight', 'denoiser.output_blocks.4.0.in_layers.2.bias', 'denoiser.output_blocks.4.0.emb_layers.1.weight', 'denoiser.output_blocks.4.0.emb_layers.1.bias', 'denoiser.output_blocks.4.0.out_layers.3.weight', 'denoiser.output_blocks.4.0.out_layers.3.bias', 'denoiser.output_blocks.4.0.skip_connection.weight', 'denoiser.output_blocks.4.0.skip_connection.bias', 'denoiser.output_blocks.5.0.in_layers.2.weight', 'denoiser.output_blocks.5.0.in_layers.2.bias', 'denoiser.output_blocks.5.0.emb_layers.1.weight', 'denoiser.output_blocks.5.0.emb_layers.1.bias', 'denoiser.output_blocks.5.0.out_layers.3.weight', 'denoiser.output_blocks.5.0.out_layers.3.bias', 'denoiser.output_blocks.5.0.skip_connection.weight', 'denoiser.output_blocks.5.0.skip_connection.bias', 'denoiser.output_blocks.5.1.conv.weight', 'denoiser.output_blocks.5.1.conv.bias', 'denoiser.output_blocks.6.0.in_layers.2.weight', 'denoiser.output_blocks.6.0.in_layers.2.bias', 'denoiser.output_blocks.6.0.emb_layers.1.weight', 'denoiser.output_blocks.6.0.emb_layers.1.bias', 'denoiser.output_blocks.6.0.out_layers.3.weight', 'denoiser.output_blocks.6.0.out_layers.3.bias', 'denoiser.output_blocks.6.0.skip_connection.weight', 'denoiser.output_blocks.6.0.skip_connection.bias', 'denoiser.output_blocks.7.0.in_layers.2.weight', 'denoiser.output_blocks.7.0.in_layers.2.bias', 'denoiser.output_blocks.7.0.emb_layers.1.weight', 'denoiser.output_blocks.7.0.emb_layers.1.bias', 'denoiser.output_blocks.7.0.out_layers.3.weight', 'denoiser.output_blocks.7.0.out_layers.3.bias', 'denoiser.output_blocks.7.0.skip_connection.weight', 'denoiser.output_blocks.7.0.skip_connection.bias', 'denoiser.output_blocks.8.0.in_layers.2.weight', 'denoiser.output_blocks.8.0.in_layers.2.bias', 'denoiser.output_blocks.8.0.emb_layers.1.weight', 'denoiser.output_blocks.8.0.emb_layers.1.bias', 'denoiser.output_blocks.8.0.out_layers.3.weight', 'denoiser.output_blocks.8.0.out_layers.3.bias', 'denoiser.output_blocks.8.0.skip_connection.weight', 'denoiser.output_blocks.8.0.skip_connection.bias', 'denoiser.output_blocks.8.1.conv.weight', 'denoiser.output_blocks.8.1.conv.bias', 'denoiser.output_blocks.9.0.in_layers.2.weight', 'denoiser.output_blocks.9.0.in_layers.2.bias', 'denoiser.output_blocks.9.0.emb_layers.1.weight', 'denoiser.output_blocks.9.0.emb_layers.1.bias', 'denoiser.output_blocks.9.0.out_layers.3.weight', 'denoiser.output_blocks.9.0.out_layers.3.bias', 'denoiser.output_blocks.9.0.skip_connection.weight', 'denoiser.output_blocks.9.0.skip_connection.bias', 'denoiser.output_blocks.10.0.in_layers.2.weight', 'denoiser.output_blocks.10.0.in_layers.2.bias', 'denoiser.output_blocks.10.0.emb_layers.1.weight', 'denoiser.output_blocks.10.0.emb_layers.1.bias', 'denoiser.output_blocks.10.0.out_layers.3.weight', 'denoiser.output_blocks.10.0.out_layers.3.bias', 'denoiser.output_blocks.10.0.skip_connection.weight', 'denoiser.output_blocks.10.0.skip_connection.bias', 'denoiser.output_blocks.11.0.in_layers.2.weight', 'denoiser.output_blocks.11.0.in_layers.2.bias', 'denoiser.output_blocks.11.0.emb_layers.1.weight', 'denoiser.output_blocks.11.0.emb_layers.1.bias', 'denoiser.output_blocks.11.0.out_layers.3.weight', 'denoiser.output_blocks.11.0.out_layers.3.bias', 'denoiser.output_blocks.11.0.skip_connection.weight', 'denoiser.output_blocks.11.0.skip_connection.bias', 'denoiser.out.2.weight', 'denoiser.out.2.bias', 'autoencoder.encoder.net.0.proj.weight', 'autoencoder.encoder.net.0.proj.bias', 'autoencoder.encoder.net.0.conv1.weight', 'autoencoder.encoder.net.0.conv1.bias', 'autoencoder.encoder.net.0.conv2.weight', 'autoencoder.encoder.net.0.conv2.bias', 'autoencoder.encoder.net.0.norm1.weight', 'autoencoder.encoder.net.0.norm1.bias', 'autoencoder.encoder.net.0.norm2.weight', 'autoencoder.encoder.net.0.norm2.bias', 'autoencoder.encoder.net.0.sequence.0.weight', 'autoencoder.encoder.net.0.sequence.0.bias', 'autoencoder.encoder.net.0.sequence.2.weight', 'autoencoder.encoder.net.0.sequence.2.bias', 'autoencoder.encoder.net.0.sequence.3.weight', 'autoencoder.encoder.net.0.sequence.3.bias', 'autoencoder.encoder.net.0.sequence.5.weight', 'autoencoder.encoder.net.0.sequence.5.bias', 'autoencoder.encoder.net.1.weight', 'autoencoder.encoder.net.1.bias', 'autoencoder.decoder.net.0.weight', 'autoencoder.decoder.net.0.bias', 'autoencoder.decoder.net.1.conv1.weight', 'autoencoder.decoder.net.1.conv1.bias', 'autoencoder.decoder.net.1.conv2.weight', 'autoencoder.decoder.net.1.conv2.bias', 'autoencoder.decoder.net.1.norm1.weight', 'autoencoder.decoder.net.1.norm1.bias', 'autoencoder.decoder.net.1.norm2.weight', 'autoencoder.decoder.net.1.norm2.bias', 'autoencoder.decoder.net.1.sequence.0.weight', 'autoencoder.decoder.net.1.sequence.0.bias', 'autoencoder.decoder.net.1.sequence.2.weight', 'autoencoder.decoder.net.1.sequence.2.bias', 'autoencoder.decoder.net.1.sequence.3.weight', 'autoencoder.decoder.net.1.sequence.3.bias', 'autoencoder.decoder.net.1.sequence.5.weight', 'autoencoder.decoder.net.1.sequence.5.bias', 'autoencoder.decoder.net.2.weight', 'autoencoder.decoder.net.2.bias', 'autoencoder.decoder.net.3.conv1.weight', 'autoencoder.decoder.net.3.conv1.bias', 'autoencoder.decoder.net.3.conv2.weight', 'autoencoder.decoder.net.3.conv2.bias', 'autoencoder.decoder.net.3.norm1.weight', 'autoencoder.decoder.net.3.norm1.bias', 'autoencoder.decoder.net.3.norm2.weight', 'autoencoder.decoder.net.3.norm2.bias', 'autoencoder.decoder.net.3.sequence.0.weight', 'autoencoder.decoder.net.3.sequence.0.bias', 'autoencoder.decoder.net.3.sequence.2.weight', 'autoencoder.decoder.net.3.sequence.2.bias', 'autoencoder.decoder.net.3.sequence.3.weight', 'autoencoder.decoder.net.3.sequence.3.bias', 'autoencoder.decoder.net.3.sequence.5.weight', 'autoencoder.decoder.net.3.sequence.5.bias', 'autoencoder.decoder.net.4.weight', 'autoencoder.decoder.net.4.bias', 'autoencoder.to_moments.weight', 'autoencoder.to_moments.bias', 'autoencoder.to_decoder.weight', 'autoencoder.to_decoder.bias', 'denoiser_ema.decay', 'denoiser_ema.num_updates', 'denoiser_ema.time_embed0weight', 'denoiser_ema.time_embed0bias', 'denoiser_ema.time_embed2weight', 'denoiser_ema.time_embed2bias', 'denoiser_ema.input_blocks00weight', 'denoiser_ema.input_blocks00bias', 'denoiser_ema.input_blocks10in_layers2weight', 'denoiser_ema.input_blocks10in_layers2bias', 'denoiser_ema.input_blocks10emb_layers1weight', 'denoiser_ema.input_blocks10emb_layers1bias', 'denoiser_ema.input_blocks10out_layers3weight', 'denoiser_ema.input_blocks10out_layers3bias', 'denoiser_ema.input_blocks20in_layers2weight', 'denoiser_ema.input_blocks20in_layers2bias', 'denoiser_ema.input_blocks20emb_layers1weight', 'denoiser_ema.input_blocks20emb_layers1bias', 'denoiser_ema.input_blocks20out_layers3weight', 'denoiser_ema.input_blocks20out_layers3bias', 'denoiser_ema.input_blocks30opweight', 'denoiser_ema.input_blocks30opbias', 'denoiser_ema.input_blocks40in_layers2weight', 'denoiser_ema.input_blocks40in_layers2bias', 'denoiser_ema.input_blocks40emb_layers1weight', 'denoiser_ema.input_blocks40emb_layers1bias', 'denoiser_ema.input_blocks40out_layers3weight', 'denoiser_ema.input_blocks40out_layers3bias', 'denoiser_ema.input_blocks40skip_connectionweight', 'denoiser_ema.input_blocks40skip_connectionbias', 'denoiser_ema.input_blocks50in_layers2weight', 'denoiser_ema.input_blocks50in_layers2bias', 'denoiser_ema.input_blocks50emb_layers1weight', 'denoiser_ema.input_blocks50emb_layers1bias', 'denoiser_ema.input_blocks50out_layers3weight', 'denoiser_ema.input_blocks50out_layers3bias', 'denoiser_ema.input_blocks60opweight', 'denoiser_ema.input_blocks60opbias', 'denoiser_ema.input_blocks70in_layers2weight', 'denoiser_ema.input_blocks70in_layers2bias', 'denoiser_ema.input_blocks70emb_layers1weight', 'denoiser_ema.input_blocks70emb_layers1bias', 'denoiser_ema.input_blocks70out_layers3weight', 'denoiser_ema.input_blocks70out_layers3bias', 'denoiser_ema.input_blocks70skip_connectionweight', 'denoiser_ema.input_blocks70skip_connectionbias', 'denoiser_ema.input_blocks80in_layers2weight', 'denoiser_ema.input_blocks80in_layers2bias', 'denoiser_ema.input_blocks80emb_layers1weight', 'denoiser_ema.input_blocks80emb_layers1bias', 'denoiser_ema.input_blocks80out_layers3weight', 'denoiser_ema.input_blocks80out_layers3bias', 'denoiser_ema.input_blocks90opweight', 'denoiser_ema.input_blocks90opbias', 'denoiser_ema.input_blocks100in_layers2weight', 'denoiser_ema.input_blocks100in_layers2bias', 'denoiser_ema.input_blocks100emb_layers1weight', 'denoiser_ema.input_blocks100emb_layers1bias', 'denoiser_ema.input_blocks100out_layers3weight', 'denoiser_ema.input_blocks100out_layers3bias', 'denoiser_ema.input_blocks110in_layers2weight', 'denoiser_ema.input_blocks110in_layers2bias', 'denoiser_ema.input_blocks110emb_layers1weight', 'denoiser_ema.input_blocks110emb_layers1bias', 'denoiser_ema.input_blocks110out_layers3weight', 'denoiser_ema.input_blocks110out_layers3bias', 'denoiser_ema.middle_block0in_layers2weight', 'denoiser_ema.middle_block0in_layers2bias', 'denoiser_ema.middle_block0emb_layers1weight', 'denoiser_ema.middle_block0emb_layers1bias', 'denoiser_ema.middle_block0out_layers3weight', 'denoiser_ema.middle_block0out_layers3bias', 'denoiser_ema.middle_block1in_layers2weight', 'denoiser_ema.middle_block1in_layers2bias', 'denoiser_ema.middle_block1emb_layers1weight', 'denoiser_ema.middle_block1emb_layers1bias', 'denoiser_ema.middle_block1out_layers3weight', 'denoiser_ema.middle_block1out_layers3bias', 'denoiser_ema.output_blocks00in_layers2weight', 'denoiser_ema.output_blocks00in_layers2bias', 'denoiser_ema.output_blocks00emb_layers1weight', 'denoiser_ema.output_blocks00emb_layers1bias', 'denoiser_ema.output_blocks00out_layers3weight', 'denoiser_ema.output_blocks00out_layers3bias', 'denoiser_ema.output_blocks00skip_connectionweight', 'denoiser_ema.output_blocks00skip_connectionbias', 'denoiser_ema.output_blocks10in_layers2weight', 'denoiser_ema.output_blocks10in_layers2bias', 'denoiser_ema.output_blocks10emb_layers1weight', 'denoiser_ema.output_blocks10emb_layers1bias', 'denoiser_ema.output_blocks10out_layers3weight', 'denoiser_ema.output_blocks10out_layers3bias', 'denoiser_ema.output_blocks10skip_connectionweight', 'denoiser_ema.output_blocks10skip_connectionbias', 'denoiser_ema.output_blocks20in_layers2weight', 'denoiser_ema.output_blocks20in_layers2bias', 'denoiser_ema.output_blocks20emb_layers1weight', 'denoiser_ema.output_blocks20emb_layers1bias', 'denoiser_ema.output_blocks20out_layers3weight', 'denoiser_ema.output_blocks20out_layers3bias', 'denoiser_ema.output_blocks20skip_connectionweight', 'denoiser_ema.output_blocks20skip_connectionbias', 'denoiser_ema.output_blocks21convweight', 'denoiser_ema.output_blocks21convbias', 'denoiser_ema.output_blocks30in_layers2weight', 'denoiser_ema.output_blocks30in_layers2bias', 'denoiser_ema.output_blocks30emb_layers1weight', 'denoiser_ema.output_blocks30emb_layers1bias', 'denoiser_ema.output_blocks30out_layers3weight', 'denoiser_ema.output_blocks30out_layers3bias', 'denoiser_ema.output_blocks30skip_connectionweight', 'denoiser_ema.output_blocks30skip_connectionbias', 'denoiser_ema.output_blocks40in_layers2weight', 'denoiser_ema.output_blocks40in_layers2bias', 'denoiser_ema.output_blocks40emb_layers1weight', 'denoiser_ema.output_blocks40emb_layers1bias', 'denoiser_ema.output_blocks40out_layers3weight', 'denoiser_ema.output_blocks40out_layers3bias', 'denoiser_ema.output_blocks40skip_connectionweight', 'denoiser_ema.output_blocks40skip_connectionbias', 'denoiser_ema.output_blocks50in_layers2weight', 'denoiser_ema.output_blocks50in_layers2bias', 'denoiser_ema.output_blocks50emb_layers1weight', 'denoiser_ema.output_blocks50emb_layers1bias', 'denoiser_ema.output_blocks50out_layers3weight', 'denoiser_ema.output_blocks50out_layers3bias', 'denoiser_ema.output_blocks50skip_connectionweight', 'denoiser_ema.output_blocks50skip_connectionbias', 'denoiser_ema.output_blocks51convweight', 'denoiser_ema.output_blocks51convbias', 'denoiser_ema.output_blocks60in_layers2weight', 'denoiser_ema.output_blocks60in_layers2bias', 'denoiser_ema.output_blocks60emb_layers1weight', 'denoiser_ema.output_blocks60emb_layers1bias', 'denoiser_ema.output_blocks60out_layers3weight', 'denoiser_ema.output_blocks60out_layers3bias', 'denoiser_ema.output_blocks60skip_connectionweight', 'denoiser_ema.output_blocks60skip_connectionbias', 'denoiser_ema.output_blocks70in_layers2weight', 'denoiser_ema.output_blocks70in_layers2bias', 'denoiser_ema.output_blocks70emb_layers1weight', 'denoiser_ema.output_blocks70emb_layers1bias', 'denoiser_ema.output_blocks70out_layers3weight', 'denoiser_ema.output_blocks70out_layers3bias', 'denoiser_ema.output_blocks70skip_connectionweight', 'denoiser_ema.output_blocks70skip_connectionbias', 'denoiser_ema.output_blocks80in_layers2weight', 'denoiser_ema.output_blocks80in_layers2bias', 'denoiser_ema.output_blocks80emb_layers1weight', 'denoiser_ema.output_blocks80emb_layers1bias', 'denoiser_ema.output_blocks80out_layers3weight', 'denoiser_ema.output_blocks80out_layers3bias', 'denoiser_ema.output_blocks80skip_connectionweight', 'denoiser_ema.output_blocks80skip_connectionbias', 'denoiser_ema.output_blocks81convweight', 'denoiser_ema.output_blocks81convbias', 'denoiser_ema.output_blocks90in_layers2weight', 'denoiser_ema.output_blocks90in_layers2bias', 'denoiser_ema.output_blocks90emb_layers1weight', 'denoiser_ema.output_blocks90emb_layers1bias', 'denoiser_ema.output_blocks90out_layers3weight', 'denoiser_ema.output_blocks90out_layers3bias', 'denoiser_ema.output_blocks90skip_connectionweight', 'denoiser_ema.output_blocks90skip_connectionbias', 'denoiser_ema.output_blocks100in_layers2weight', 'denoiser_ema.output_blocks100in_layers2bias', 'denoiser_ema.output_blocks100emb_layers1weight', 'denoiser_ema.output_blocks100emb_layers1bias', 'denoiser_ema.output_blocks100out_layers3weight', 'denoiser_ema.output_blocks100out_layers3bias', 'denoiser_ema.output_blocks100skip_connectionweight', 'denoiser_ema.output_blocks100skip_connectionbias', 'denoiser_ema.output_blocks110in_layers2weight', 'denoiser_ema.output_blocks110in_layers2bias', 'denoiser_ema.output_blocks110emb_layers1weight', 'denoiser_ema.output_blocks110emb_layers1bias', 'denoiser_ema.output_blocks110out_layers3weight', 'denoiser_ema.output_blocks110out_layers3bias', 'denoiser_ema.output_blocks110skip_connectionweight', 'denoiser_ema.output_blocks110skip_connectionbias', 'denoiser_ema.out2weight', 'denoiser_ema.out2bias'])\n"
     ]
    }
   ],
   "source": [
    "#Expected vs real key \n",
    "print(model_LDM.state_dict().keys())\n",
    "print(remapped_ldm_state_dict.keys())"
   ]
  },
  {
   "cell_type": "markdown",
   "id": "93ff5a27",
   "metadata": {},
   "source": [
    "Extra key above, rest matching, not giving an issue if strict=False"
   ]
  },
  {
   "cell_type": "code",
   "execution_count": 28,
   "id": "f0512f9d",
   "metadata": {},
   "outputs": [],
   "source": [
    "dm = DownscalingDataModule(\n",
    "    train_input={\n",
    "        \"precip\": \"/work/FAC/FGSE/IDYST/tbeucler/downscaling/sasthana/Downscaling/Downscaling_Models/Training_Chronological_Dataset/RhiresD_input_test_chronological_scaled.nc\",\n",
    "        \"temp\": \"/work/FAC/FGSE/IDYST/tbeucler/downscaling/sasthana/Downscaling/Downscaling_Models/Training_Chronological_Dataset/TabsD_input_test_chronological_scaled.nc\",\n",
    "        \"temp_min\": \"/work/FAC/FGSE/IDYST/tbeucler/downscaling/sasthana/Downscaling/Downscaling_Models/Training_Chronological_Dataset/TminD_input_test_chronological_scaled.nc\",\n",
    "        \"temp_max\": \"/work/FAC/FGSE/IDYST/tbeucler/downscaling/sasthana/Downscaling/Downscaling_Models/Training_Chronological_Dataset/TmaxD_input_test_chronological_scaled.nc\"\n",
    "    },\n",
    "    train_target={\n",
    "        \"precip\": \"/work/FAC/FGSE/IDYST/tbeucler/downscaling/sasthana/Downscaling/Downscaling_Models/Training_Chronological_Dataset/RhiresD_target_test_chronological_scaled.nc\",\n",
    "        \"temp\": \"/work/FAC/FGSE/IDYST/tbeucler/downscaling/sasthana/Downscaling/Downscaling_Models/Training_Chronological_Dataset/TabsD_target_test_chronological_scaled.nc\",\n",
    "        \"temp_min\": \"/work/FAC/FGSE/IDYST/tbeucler/downscaling/sasthana/Downscaling/Downscaling_Models/Training_Chronological_Dataset/TminD_target_test_chronological_scaled.nc\",\n",
    "        \"temp_max\": \"/work/FAC/FGSE/IDYST/tbeucler/downscaling/sasthana/Downscaling/Downscaling_Models/Training_Chronological_Dataset/TmaxD_target_test_chronological_scaled.nc\"\n",
    "    },\n",
    "    elevation=\"/work/FAC/FGSE/IDYST/tbeucler/downscaling/sasthana/Downscaling/Downscaling_Models/elevation.tif\",\n",
    "    batch_size=32,\n",
    "    num_workers=4,\n",
    "    preprocessing={\n",
    "        \"variables\": {\n",
    "            \"input\": {\n",
    "                \"precip\": \"RhiresD\",\n",
    "                \"temp\": \"TabsD\",\n",
    "                \"temp_min\": \"TminD\",\n",
    "                \"temp_max\": \"TmaxD\"\n",
    "            },\n",
    "            \"target\": {\n",
    "                \"precip\": \"RhiresD\",\n",
    "                \"temp\": \"TabsD\",\n",
    "                \"temp_min\": \"TminD\",\n",
    "                \"temp_max\": \"TmaxD\"\n",
    "            }\n",
    "        },\n",
    "        \"preprocessing\": {\n",
    "            \"nan_to_num\": True,\n",
    "            \"nan_value\": 0.0\n",
    "        }\n",
    "    }\n",
    ")\n",
    "\n",
    "dm.setup()\n"
   ]
  },
  {
   "cell_type": "markdown",
   "id": "c91c0298",
   "metadata": {},
   "source": [
    "denorming functions along with parameter files "
   ]
  },
  {
   "cell_type": "code",
   "execution_count": 29,
   "id": "700b04ed",
   "metadata": {},
   "outputs": [],
   "source": [
    "with open(\"../Training_Chronological_Dataset/RhiresD_scaling_params_chronological.json\") as f:\n",
    "    pr_params = json.load(f)\n",
    "with open(\"../Training_Chronological_Dataset/TabsD_scaling_params_chronological.json\") as f:\n",
    "    temp_params = json.load(f)\n",
    "with open(\"../Training_Chronological_Dataset/TminD_scaling_params_chronological.json\") as f:\n",
    "    temp_min_params = json.load(f)\n",
    "with open(\"../Training_Chronological_Dataset/TmaxD_scaling_params_chronological.json\") as f:\n",
    "    temp_max_params = json.load(f)\n",
    "\n",
    "def denorm_pr(x):\n",
    "    # Min-max\n",
    "    return x * (pr_params[\"max\"] - pr_params[\"min\"]) + pr_params[\"min\"]\n",
    "\n",
    "def denorm_temp(x, params):\n",
    "    # z\n",
    "    return x * params[\"std\"] + params[\"mean\"]\n",
    "\n"
   ]
  },
  {
   "cell_type": "code",
   "execution_count": 36,
   "id": "fd9ee08b",
   "metadata": {},
   "outputs": [],
   "source": [
    "# Get a batch from the dataloader\n",
    "train_loader = dm.train_dataloader()\n",
    "train_batch = next(iter(train_loader))\n",
    "train_inputs, train_targets = train_batch\n",
    "\n",
    "# Select a random sample\n",
    "idx = random.randint(0, train_inputs.shape[0] - 1)\n",
    "input_sample = train_inputs[idx].unsqueeze(0)  # (1, channels, H, W)\n",
    "\n"
   ]
  },
  {
   "cell_type": "code",
   "execution_count": null,
   "id": "2d08e71c",
   "metadata": {},
   "outputs": [
    {
     "name": "stdout",
     "output_type": "stream",
     "text": [
      "Data shape for DDIM sampling is (1, 32, 120, 185), eta 0.2\n",
      "Running DDIM Sampling with 50 timesteps\n"
     ]
    },
    {
     "name": "stderr",
     "output_type": "stream",
     "text": [
      "DDIM Sampler:  66%|██████▌   | 33/50 [31:35<16:07, 56.88s/it]"
     ]
    }
   ],
   "source": [
    "from models.components.ldm.denoiser.ddim import DDIMSampler\n",
    "\n",
    "# Rand frame\n",
    "train_loader = dm.train_dataloader()\n",
    "train_batch = next(iter(train_loader))\n",
    "train_inputs, train_targets = train_batch\n",
    "idx = random.randint(0, train_inputs.shape[0] - 1)\n",
    "input_sample = train_inputs[idx].unsqueeze(0)  # (1, ch, H, W)\n",
    "\n",
    "with torch.no_grad():\n",
    "    # LAtent\n",
    "    mean, log_var = model_VAE.encode(input_sample)\n",
    "    std = torch.exp(0.5 * log_var)\n",
    "    eps = torch.randn_like(std)\n",
    "    latent = mean + eps * std  # stochastic sampling from a Gaussian\n",
    "\n",
    "    sampler = DDIMSampler(model_LDM)\n",
    "    # shape for single sample\n",
    "    shape = latent.shape[1:]\n",
    "    samples, _ = sampler.sample(\n",
    "        S=50,  # denoising steps\n",
    "        batch_size=1,\n",
    "        shape=shape,\n",
    "        x_T=latent,  # start from encoded latent\n",
    "        eta=0.2,     # 0.0 for deterministic, >0 for stochastic\n",
    "        verbose=False,\n",
    "        progbar=True\n",
    "    )\n",
    "\n",
    "    # Decode\n",
    "    recon = model_VAE.decode(samples)\n",
    "\n",
    "images_ldm = [\n",
    "    denorm_pr(input_sample[0, 0].cpu().numpy()),\n",
    "    denorm_pr(recon[0, 0].cpu().numpy()),       \n",
    "    denorm_temp(input_sample[0, 1].cpu().numpy(), temp_params),   \n",
    "    denorm_temp(recon[0, 1].cpu().numpy(), temp_params),           \n",
    "    denorm_temp(input_sample[0, 2].cpu().numpy(), temp_min_params),\n",
    "    denorm_temp(recon[0, 2].cpu().numpy(), temp_min_params),      \n",
    "    denorm_temp(input_sample[0, 3].cpu().numpy(), temp_max_params),\n",
    "    denorm_temp(recon[0, 3].cpu().numpy(), temp_max_params),       \n",
    "]\n",
    "titles_ldm = [\n",
    "    \"Input precip\", \"LDM Output precip\",\n",
    "    \"Input temp\", \"LDM Output temp\",\n",
    "    \"Input temp_min\", \"LDM Output temp_min\",\n",
    "    \"Input temp_max\", \"LDM Output temp_max\"\n",
    "]\n",
    " \n",
    "fig, axes = plt.subplots(2, 4, figsize=(20, 10))\n",
    "for ax, img, title in zip(axes.flatten(), images_ldm, titles_ldm):\n",
    "    ax.imshow(img, cmap='viridis')\n",
    "    ax.set_title(title)\n",
    "    ax.axis('off')\n",
    "plt.tight_layout()\n",
    "plt.show()"
   ]
  }
 ],
 "metadata": {
  "kernelspec": {
   "display_name": "diffscaler",
   "language": "python",
   "name": "python3"
  },
  "language_info": {
   "codemirror_mode": {
    "name": "ipython",
    "version": 3
   },
   "file_extension": ".py",
   "mimetype": "text/x-python",
   "name": "python",
   "nbconvert_exporter": "python",
   "pygments_lexer": "ipython3",
   "version": "3.9.23"
  }
 },
 "nbformat": 4,
 "nbformat_minor": 5
}
