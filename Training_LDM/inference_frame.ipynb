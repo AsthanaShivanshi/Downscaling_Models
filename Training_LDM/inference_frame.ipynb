{
 "cells": [
  {
   "cell_type": "code",
   "execution_count": 2,
   "id": "e5bf3df2",
   "metadata": {},
   "outputs": [],
   "source": [
    "import sys\n",
    "sys.path.append(\"..\") #Parent \n",
    "sys.path.append(\"../..\") #grandparent\n",
    "import torch\n",
    "from models.components.ldm.denoiser import UNetModel\n",
    "from Training_LDM.DownscalingDataModule import DownscalingDataModule\n",
    "import random\n"
   ]
  },
  {
   "cell_type": "code",
   "execution_count": 3,
   "id": "1c0913a8",
   "metadata": {},
   "outputs": [],
   "source": [
    "from models.components.unet import DownscalingUnetLightning \n",
    "from models.ae_module import AutoencoderKL\n",
    "from models.components.ae import SimpleConvEncoder, SimpleConvDecoder\n",
    "from models.ldm_module import LatentDiffusion"
   ]
  },
  {
   "cell_type": "code",
   "execution_count": 4,
   "id": "fa55b1a1",
   "metadata": {},
   "outputs": [],
   "source": [
    "#UNet ckpt path \n",
    "ckpt_unet= \"Training_LDM.models.components.unet.DownscalingUnetLightning_checkpoint.ckpt\"\n",
    "ckpt_vae= \"Training_LDM.models.ae_module.AutoencoderKL_checkpoint.ckpt\"\n",
    "ckpt_ldm= \"LDM_checkpoint.ckpt\""
   ]
  },
  {
   "cell_type": "markdown",
   "id": "7bf27392",
   "metadata": {},
   "source": [
    "Instantiating the UNet"
   ]
  },
  {
   "cell_type": "code",
   "execution_count": 5,
   "id": "3f9f0dbc",
   "metadata": {},
   "outputs": [],
   "source": [
    "model_UNet= DownscalingUnetLightning.load_from_checkpoint(ckpt_unet,\n",
    "                                                          in_ch=5,\n",
    "    out_ch=4,\n",
    "    features=[64,128,256,512],\n",
    "    channel_names=[\"precip\", \"temp\", \"temp_min\", \"temp_max\"]\n",
    ")"
   ]
  },
  {
   "cell_type": "markdown",
   "id": "5111afeb",
   "metadata": {},
   "source": [
    "Instantiating VAE"
   ]
  },
  {
   "cell_type": "code",
   "execution_count": null,
   "id": "453e0fe7",
   "metadata": {},
   "outputs": [
    {
     "ename": "TypeError",
     "evalue": "__init__() got an unexpected keyword argument 'out_ch'",
     "output_type": "error",
     "traceback": [
      "\u001b[0;31m---------------------------------------------------------------------------\u001b[0m",
      "\u001b[0;31mTypeError\u001b[0m                                 Traceback (most recent call last)",
      "Cell \u001b[0;32mIn[9], line 2\u001b[0m\n\u001b[1;32m      1\u001b[0m encoder \u001b[38;5;241m=\u001b[39m SimpleConvEncoder(in_dim\u001b[38;5;241m=\u001b[39m\u001b[38;5;241m4\u001b[39m, levels\u001b[38;5;241m=\u001b[39m\u001b[38;5;241m2\u001b[39m, min_ch\u001b[38;5;241m=\u001b[39m\u001b[38;5;241m16\u001b[39m, ch_mult\u001b[38;5;241m=\u001b[39m\u001b[38;5;241m4\u001b[39m)\n\u001b[0;32m----> 2\u001b[0m decoder \u001b[38;5;241m=\u001b[39m \u001b[43mSimpleConvDecoder\u001b[49m\u001b[43m(\u001b[49m\u001b[43min_dim\u001b[49m\u001b[38;5;241;43m=\u001b[39;49m\u001b[38;5;241;43m64\u001b[39;49m\u001b[43m,\u001b[49m\u001b[43m \u001b[49m\u001b[43mlevels\u001b[49m\u001b[38;5;241;43m=\u001b[39;49m\u001b[38;5;241;43m2\u001b[39;49m\u001b[43m,\u001b[49m\u001b[43m \u001b[49m\u001b[43mmin_ch\u001b[49m\u001b[38;5;241;43m=\u001b[39;49m\u001b[38;5;241;43m16\u001b[39;49m\u001b[43m,\u001b[49m\u001b[43mout_ch\u001b[49m\u001b[38;5;241;43m=\u001b[39;49m\u001b[38;5;241;43m4\u001b[39;49m\u001b[43m)\u001b[49m\n",
      "\u001b[0;31mTypeError\u001b[0m: __init__() got an unexpected keyword argument 'out_ch'"
     ]
    }
   ],
   "source": [
    "encoder = SimpleConvEncoder(in_dim=4, levels=2, min_ch=16, ch_mult=4)\n",
    "decoder = SimpleConvDecoder(in_dim=64, levels=2, min_ch=16)"
   ]
  },
  {
   "cell_type": "markdown",
   "id": "6f6173d1",
   "metadata": {},
   "source": [
    "VAE decoder needed to be softcoded to accept 4 output ch!!"
   ]
  },
  {
   "cell_type": "code",
   "execution_count": 10,
   "id": "dd105dbf",
   "metadata": {},
   "outputs": [
    {
     "name": "stdout",
     "output_type": "stream",
     "text": [
      "(self, in_dim=1, levels=2, min_ch=16, ch_mult: int = 4)\n"
     ]
    }
   ],
   "source": [
    "import inspect\n",
    "print(inspect.signature(SimpleConvDecoder.__init__))"
   ]
  },
  {
   "cell_type": "code",
   "execution_count": 8,
   "id": "57792f5a",
   "metadata": {},
   "outputs": [],
   "source": [
    "unet_ckpt = torch.load(ckpt_unet, map_location=\"cpu\")"
   ]
  },
  {
   "cell_type": "code",
   "execution_count": 7,
   "id": "b6839fc0",
   "metadata": {},
   "outputs": [
    {
     "name": "stderr",
     "output_type": "stream",
     "text": [
      "/work/FAC/FGSE/IDYST/tbeucler/downscaling/sasthana/Downscaling/Downscaling_Models/.micromamba/envs/diffscaler/lib/python3.9/site-packages/lightning/pytorch/core/saving.py:191: Found keys that are in the model state dict but not in the checkpoint: ['unet_regr.unet.e1.conv.conv.0.weight', 'unet_regr.unet.e1.conv.conv.1.weight', 'unet_regr.unet.e1.conv.conv.1.bias', 'unet_regr.unet.e1.conv.conv.1.running_mean', 'unet_regr.unet.e1.conv.conv.1.running_var', 'unet_regr.unet.e1.conv.conv.3.weight', 'unet_regr.unet.e1.conv.conv.4.weight', 'unet_regr.unet.e1.conv.conv.4.bias', 'unet_regr.unet.e1.conv.conv.4.running_mean', 'unet_regr.unet.e1.conv.conv.4.running_var', 'unet_regr.unet.e2.conv.conv.0.weight', 'unet_regr.unet.e2.conv.conv.1.weight', 'unet_regr.unet.e2.conv.conv.1.bias', 'unet_regr.unet.e2.conv.conv.1.running_mean', 'unet_regr.unet.e2.conv.conv.1.running_var', 'unet_regr.unet.e2.conv.conv.3.weight', 'unet_regr.unet.e2.conv.conv.4.weight', 'unet_regr.unet.e2.conv.conv.4.bias', 'unet_regr.unet.e2.conv.conv.4.running_mean', 'unet_regr.unet.e2.conv.conv.4.running_var', 'unet_regr.unet.e3.conv.conv.0.weight', 'unet_regr.unet.e3.conv.conv.1.weight', 'unet_regr.unet.e3.conv.conv.1.bias', 'unet_regr.unet.e3.conv.conv.1.running_mean', 'unet_regr.unet.e3.conv.conv.1.running_var', 'unet_regr.unet.e3.conv.conv.3.weight', 'unet_regr.unet.e3.conv.conv.4.weight', 'unet_regr.unet.e3.conv.conv.4.bias', 'unet_regr.unet.e3.conv.conv.4.running_mean', 'unet_regr.unet.e3.conv.conv.4.running_var', 'unet_regr.unet.e4.conv.conv.0.weight', 'unet_regr.unet.e4.conv.conv.1.weight', 'unet_regr.unet.e4.conv.conv.1.bias', 'unet_regr.unet.e4.conv.conv.1.running_mean', 'unet_regr.unet.e4.conv.conv.1.running_var', 'unet_regr.unet.e4.conv.conv.3.weight', 'unet_regr.unet.e4.conv.conv.4.weight', 'unet_regr.unet.e4.conv.conv.4.bias', 'unet_regr.unet.e4.conv.conv.4.running_mean', 'unet_regr.unet.e4.conv.conv.4.running_var', 'unet_regr.unet.b.conv.0.weight', 'unet_regr.unet.b.conv.1.weight', 'unet_regr.unet.b.conv.1.bias', 'unet_regr.unet.b.conv.1.running_mean', 'unet_regr.unet.b.conv.1.running_var', 'unet_regr.unet.b.conv.3.weight', 'unet_regr.unet.b.conv.4.weight', 'unet_regr.unet.b.conv.4.bias', 'unet_regr.unet.b.conv.4.running_mean', 'unet_regr.unet.b.conv.4.running_var', 'unet_regr.unet.d1.up.weight', 'unet_regr.unet.d1.up.bias', 'unet_regr.unet.d1.conv.conv.0.weight', 'unet_regr.unet.d1.conv.conv.1.weight', 'unet_regr.unet.d1.conv.conv.1.bias', 'unet_regr.unet.d1.conv.conv.1.running_mean', 'unet_regr.unet.d1.conv.conv.1.running_var', 'unet_regr.unet.d1.conv.conv.3.weight', 'unet_regr.unet.d1.conv.conv.4.weight', 'unet_regr.unet.d1.conv.conv.4.bias', 'unet_regr.unet.d1.conv.conv.4.running_mean', 'unet_regr.unet.d1.conv.conv.4.running_var', 'unet_regr.unet.d2.up.weight', 'unet_regr.unet.d2.up.bias', 'unet_regr.unet.d2.conv.conv.0.weight', 'unet_regr.unet.d2.conv.conv.1.weight', 'unet_regr.unet.d2.conv.conv.1.bias', 'unet_regr.unet.d2.conv.conv.1.running_mean', 'unet_regr.unet.d2.conv.conv.1.running_var', 'unet_regr.unet.d2.conv.conv.3.weight', 'unet_regr.unet.d2.conv.conv.4.weight', 'unet_regr.unet.d2.conv.conv.4.bias', 'unet_regr.unet.d2.conv.conv.4.running_mean', 'unet_regr.unet.d2.conv.conv.4.running_var', 'unet_regr.unet.d3.up.weight', 'unet_regr.unet.d3.up.bias', 'unet_regr.unet.d3.conv.conv.0.weight', 'unet_regr.unet.d3.conv.conv.1.weight', 'unet_regr.unet.d3.conv.conv.1.bias', 'unet_regr.unet.d3.conv.conv.1.running_mean', 'unet_regr.unet.d3.conv.conv.1.running_var', 'unet_regr.unet.d3.conv.conv.3.weight', 'unet_regr.unet.d3.conv.conv.4.weight', 'unet_regr.unet.d3.conv.conv.4.bias', 'unet_regr.unet.d3.conv.conv.4.running_mean', 'unet_regr.unet.d3.conv.conv.4.running_var', 'unet_regr.unet.d4.up.weight', 'unet_regr.unet.d4.up.bias', 'unet_regr.unet.d4.conv.conv.0.weight', 'unet_regr.unet.d4.conv.conv.1.weight', 'unet_regr.unet.d4.conv.conv.1.bias', 'unet_regr.unet.d4.conv.conv.1.running_mean', 'unet_regr.unet.d4.conv.conv.1.running_var', 'unet_regr.unet.d4.conv.conv.3.weight', 'unet_regr.unet.d4.conv.conv.4.weight', 'unet_regr.unet.d4.conv.conv.4.bias', 'unet_regr.unet.d4.conv.conv.4.running_mean', 'unet_regr.unet.d4.conv.conv.4.running_var', 'unet_regr.unet.outputs.weight', 'unet_regr.unet.outputs.bias']\n",
      "/work/FAC/FGSE/IDYST/tbeucler/downscaling/sasthana/Downscaling/Downscaling_Models/.micromamba/envs/diffscaler/lib/python3.9/site-packages/lightning/pytorch/core/saving.py:195: Found keys that are not in the model state dict but in the checkpoint: ['decoder.net.4.weight', 'decoder.net.4.bias', 'unet_regr.e1.conv.conv.0.weight', 'unet_regr.e1.conv.conv.1.weight', 'unet_regr.e1.conv.conv.1.bias', 'unet_regr.e1.conv.conv.1.running_mean', 'unet_regr.e1.conv.conv.1.running_var', 'unet_regr.e1.conv.conv.1.num_batches_tracked', 'unet_regr.e1.conv.conv.3.weight', 'unet_regr.e1.conv.conv.4.weight', 'unet_regr.e1.conv.conv.4.bias', 'unet_regr.e1.conv.conv.4.running_mean', 'unet_regr.e1.conv.conv.4.running_var', 'unet_regr.e1.conv.conv.4.num_batches_tracked', 'unet_regr.e2.conv.conv.0.weight', 'unet_regr.e2.conv.conv.1.weight', 'unet_regr.e2.conv.conv.1.bias', 'unet_regr.e2.conv.conv.1.running_mean', 'unet_regr.e2.conv.conv.1.running_var', 'unet_regr.e2.conv.conv.1.num_batches_tracked', 'unet_regr.e2.conv.conv.3.weight', 'unet_regr.e2.conv.conv.4.weight', 'unet_regr.e2.conv.conv.4.bias', 'unet_regr.e2.conv.conv.4.running_mean', 'unet_regr.e2.conv.conv.4.running_var', 'unet_regr.e2.conv.conv.4.num_batches_tracked', 'unet_regr.e3.conv.conv.0.weight', 'unet_regr.e3.conv.conv.1.weight', 'unet_regr.e3.conv.conv.1.bias', 'unet_regr.e3.conv.conv.1.running_mean', 'unet_regr.e3.conv.conv.1.running_var', 'unet_regr.e3.conv.conv.1.num_batches_tracked', 'unet_regr.e3.conv.conv.3.weight', 'unet_regr.e3.conv.conv.4.weight', 'unet_regr.e3.conv.conv.4.bias', 'unet_regr.e3.conv.conv.4.running_mean', 'unet_regr.e3.conv.conv.4.running_var', 'unet_regr.e3.conv.conv.4.num_batches_tracked', 'unet_regr.e4.conv.conv.0.weight', 'unet_regr.e4.conv.conv.1.weight', 'unet_regr.e4.conv.conv.1.bias', 'unet_regr.e4.conv.conv.1.running_mean', 'unet_regr.e4.conv.conv.1.running_var', 'unet_regr.e4.conv.conv.1.num_batches_tracked', 'unet_regr.e4.conv.conv.3.weight', 'unet_regr.e4.conv.conv.4.weight', 'unet_regr.e4.conv.conv.4.bias', 'unet_regr.e4.conv.conv.4.running_mean', 'unet_regr.e4.conv.conv.4.running_var', 'unet_regr.e4.conv.conv.4.num_batches_tracked', 'unet_regr.b.conv.0.weight', 'unet_regr.b.conv.1.weight', 'unet_regr.b.conv.1.bias', 'unet_regr.b.conv.1.running_mean', 'unet_regr.b.conv.1.running_var', 'unet_regr.b.conv.1.num_batches_tracked', 'unet_regr.b.conv.3.weight', 'unet_regr.b.conv.4.weight', 'unet_regr.b.conv.4.bias', 'unet_regr.b.conv.4.running_mean', 'unet_regr.b.conv.4.running_var', 'unet_regr.b.conv.4.num_batches_tracked', 'unet_regr.d1.up.weight', 'unet_regr.d1.up.bias', 'unet_regr.d1.conv.conv.0.weight', 'unet_regr.d1.conv.conv.1.weight', 'unet_regr.d1.conv.conv.1.bias', 'unet_regr.d1.conv.conv.1.running_mean', 'unet_regr.d1.conv.conv.1.running_var', 'unet_regr.d1.conv.conv.1.num_batches_tracked', 'unet_regr.d1.conv.conv.3.weight', 'unet_regr.d1.conv.conv.4.weight', 'unet_regr.d1.conv.conv.4.bias', 'unet_regr.d1.conv.conv.4.running_mean', 'unet_regr.d1.conv.conv.4.running_var', 'unet_regr.d1.conv.conv.4.num_batches_tracked', 'unet_regr.d2.up.weight', 'unet_regr.d2.up.bias', 'unet_regr.d2.conv.conv.0.weight', 'unet_regr.d2.conv.conv.1.weight', 'unet_regr.d2.conv.conv.1.bias', 'unet_regr.d2.conv.conv.1.running_mean', 'unet_regr.d2.conv.conv.1.running_var', 'unet_regr.d2.conv.conv.1.num_batches_tracked', 'unet_regr.d2.conv.conv.3.weight', 'unet_regr.d2.conv.conv.4.weight', 'unet_regr.d2.conv.conv.4.bias', 'unet_regr.d2.conv.conv.4.running_mean', 'unet_regr.d2.conv.conv.4.running_var', 'unet_regr.d2.conv.conv.4.num_batches_tracked', 'unet_regr.d3.up.weight', 'unet_regr.d3.up.bias', 'unet_regr.d3.conv.conv.0.weight', 'unet_regr.d3.conv.conv.1.weight', 'unet_regr.d3.conv.conv.1.bias', 'unet_regr.d3.conv.conv.1.running_mean', 'unet_regr.d3.conv.conv.1.running_var', 'unet_regr.d3.conv.conv.1.num_batches_tracked', 'unet_regr.d3.conv.conv.3.weight', 'unet_regr.d3.conv.conv.4.weight', 'unet_regr.d3.conv.conv.4.bias', 'unet_regr.d3.conv.conv.4.running_mean', 'unet_regr.d3.conv.conv.4.running_var', 'unet_regr.d3.conv.conv.4.num_batches_tracked', 'unet_regr.d4.up.weight', 'unet_regr.d4.up.bias', 'unet_regr.d4.conv.conv.0.weight', 'unet_regr.d4.conv.conv.1.weight', 'unet_regr.d4.conv.conv.1.bias', 'unet_regr.d4.conv.conv.1.running_mean', 'unet_regr.d4.conv.conv.1.running_var', 'unet_regr.d4.conv.conv.1.num_batches_tracked', 'unet_regr.d4.conv.conv.3.weight', 'unet_regr.d4.conv.conv.4.weight', 'unet_regr.d4.conv.conv.4.bias', 'unet_regr.d4.conv.conv.4.running_mean', 'unet_regr.d4.conv.conv.4.running_var', 'unet_regr.d4.conv.conv.4.num_batches_tracked', 'unet_regr.outputs.weight', 'unet_regr.outputs.bias']\n"
     ]
    }
   ],
   "source": [
    "model_VAE = AutoencoderKL.load_from_checkpoint(\n",
    "    ckpt_vae,\n",
    "    encoder=encoder,\n",
    "    decoder=decoder,\n",
    "    kl_weight=0.01,\n",
    "    ae_flag=\"residual\",\n",
    "    unet_regr=model_UNet,\n",
    "    strict=False \n",
    ")\n",
    "\n"
   ]
  },
  {
   "cell_type": "code",
   "execution_count": 8,
   "id": "a73f97bb",
   "metadata": {},
   "outputs": [
    {
     "name": "stdout",
     "output_type": "stream",
     "text": [
      "odict_keys(['unet.e1.conv.conv.0.weight', 'unet.e1.conv.conv.1.weight', 'unet.e1.conv.conv.1.bias', 'unet.e1.conv.conv.1.running_mean', 'unet.e1.conv.conv.1.running_var', 'unet.e1.conv.conv.1.num_batches_tracked', 'unet.e1.conv.conv.3.weight', 'unet.e1.conv.conv.4.weight', 'unet.e1.conv.conv.4.bias', 'unet.e1.conv.conv.4.running_mean', 'unet.e1.conv.conv.4.running_var', 'unet.e1.conv.conv.4.num_batches_tracked', 'unet.e2.conv.conv.0.weight', 'unet.e2.conv.conv.1.weight', 'unet.e2.conv.conv.1.bias', 'unet.e2.conv.conv.1.running_mean', 'unet.e2.conv.conv.1.running_var', 'unet.e2.conv.conv.1.num_batches_tracked', 'unet.e2.conv.conv.3.weight', 'unet.e2.conv.conv.4.weight', 'unet.e2.conv.conv.4.bias', 'unet.e2.conv.conv.4.running_mean', 'unet.e2.conv.conv.4.running_var', 'unet.e2.conv.conv.4.num_batches_tracked', 'unet.e3.conv.conv.0.weight', 'unet.e3.conv.conv.1.weight', 'unet.e3.conv.conv.1.bias', 'unet.e3.conv.conv.1.running_mean', 'unet.e3.conv.conv.1.running_var', 'unet.e3.conv.conv.1.num_batches_tracked', 'unet.e3.conv.conv.3.weight', 'unet.e3.conv.conv.4.weight', 'unet.e3.conv.conv.4.bias', 'unet.e3.conv.conv.4.running_mean', 'unet.e3.conv.conv.4.running_var', 'unet.e3.conv.conv.4.num_batches_tracked', 'unet.e4.conv.conv.0.weight', 'unet.e4.conv.conv.1.weight', 'unet.e4.conv.conv.1.bias', 'unet.e4.conv.conv.1.running_mean', 'unet.e4.conv.conv.1.running_var', 'unet.e4.conv.conv.1.num_batches_tracked', 'unet.e4.conv.conv.3.weight', 'unet.e4.conv.conv.4.weight', 'unet.e4.conv.conv.4.bias', 'unet.e4.conv.conv.4.running_mean', 'unet.e4.conv.conv.4.running_var', 'unet.e4.conv.conv.4.num_batches_tracked', 'unet.b.conv.0.weight', 'unet.b.conv.1.weight', 'unet.b.conv.1.bias', 'unet.b.conv.1.running_mean', 'unet.b.conv.1.running_var', 'unet.b.conv.1.num_batches_tracked', 'unet.b.conv.3.weight', 'unet.b.conv.4.weight', 'unet.b.conv.4.bias', 'unet.b.conv.4.running_mean', 'unet.b.conv.4.running_var', 'unet.b.conv.4.num_batches_tracked', 'unet.d1.up.weight', 'unet.d1.up.bias', 'unet.d1.conv.conv.0.weight', 'unet.d1.conv.conv.1.weight', 'unet.d1.conv.conv.1.bias', 'unet.d1.conv.conv.1.running_mean', 'unet.d1.conv.conv.1.running_var', 'unet.d1.conv.conv.1.num_batches_tracked', 'unet.d1.conv.conv.3.weight', 'unet.d1.conv.conv.4.weight', 'unet.d1.conv.conv.4.bias', 'unet.d1.conv.conv.4.running_mean', 'unet.d1.conv.conv.4.running_var', 'unet.d1.conv.conv.4.num_batches_tracked', 'unet.d2.up.weight', 'unet.d2.up.bias', 'unet.d2.conv.conv.0.weight', 'unet.d2.conv.conv.1.weight', 'unet.d2.conv.conv.1.bias', 'unet.d2.conv.conv.1.running_mean', 'unet.d2.conv.conv.1.running_var', 'unet.d2.conv.conv.1.num_batches_tracked', 'unet.d2.conv.conv.3.weight', 'unet.d2.conv.conv.4.weight', 'unet.d2.conv.conv.4.bias', 'unet.d2.conv.conv.4.running_mean', 'unet.d2.conv.conv.4.running_var', 'unet.d2.conv.conv.4.num_batches_tracked', 'unet.d3.up.weight', 'unet.d3.up.bias', 'unet.d3.conv.conv.0.weight', 'unet.d3.conv.conv.1.weight', 'unet.d3.conv.conv.1.bias', 'unet.d3.conv.conv.1.running_mean', 'unet.d3.conv.conv.1.running_var', 'unet.d3.conv.conv.1.num_batches_tracked', 'unet.d3.conv.conv.3.weight', 'unet.d3.conv.conv.4.weight', 'unet.d3.conv.conv.4.bias', 'unet.d3.conv.conv.4.running_mean', 'unet.d3.conv.conv.4.running_var', 'unet.d3.conv.conv.4.num_batches_tracked', 'unet.d4.up.weight', 'unet.d4.up.bias', 'unet.d4.conv.conv.0.weight', 'unet.d4.conv.conv.1.weight', 'unet.d4.conv.conv.1.bias', 'unet.d4.conv.conv.1.running_mean', 'unet.d4.conv.conv.1.running_var', 'unet.d4.conv.conv.1.num_batches_tracked', 'unet.d4.conv.conv.3.weight', 'unet.d4.conv.conv.4.weight', 'unet.d4.conv.conv.4.bias', 'unet.d4.conv.conv.4.running_mean', 'unet.d4.conv.conv.4.running_var', 'unet.d4.conv.conv.4.num_batches_tracked', 'unet.outputs.weight', 'unet.outputs.bias'])\n",
      "odict_keys(['unet.e1.conv.conv.0.weight', 'unet.e1.conv.conv.1.weight', 'unet.e1.conv.conv.1.bias', 'unet.e1.conv.conv.1.running_mean', 'unet.e1.conv.conv.1.running_var', 'unet.e1.conv.conv.1.num_batches_tracked', 'unet.e1.conv.conv.3.weight', 'unet.e1.conv.conv.4.weight', 'unet.e1.conv.conv.4.bias', 'unet.e1.conv.conv.4.running_mean', 'unet.e1.conv.conv.4.running_var', 'unet.e1.conv.conv.4.num_batches_tracked', 'unet.e2.conv.conv.0.weight', 'unet.e2.conv.conv.1.weight', 'unet.e2.conv.conv.1.bias', 'unet.e2.conv.conv.1.running_mean', 'unet.e2.conv.conv.1.running_var', 'unet.e2.conv.conv.1.num_batches_tracked', 'unet.e2.conv.conv.3.weight', 'unet.e2.conv.conv.4.weight', 'unet.e2.conv.conv.4.bias', 'unet.e2.conv.conv.4.running_mean', 'unet.e2.conv.conv.4.running_var', 'unet.e2.conv.conv.4.num_batches_tracked', 'unet.e3.conv.conv.0.weight', 'unet.e3.conv.conv.1.weight', 'unet.e3.conv.conv.1.bias', 'unet.e3.conv.conv.1.running_mean', 'unet.e3.conv.conv.1.running_var', 'unet.e3.conv.conv.1.num_batches_tracked', 'unet.e3.conv.conv.3.weight', 'unet.e3.conv.conv.4.weight', 'unet.e3.conv.conv.4.bias', 'unet.e3.conv.conv.4.running_mean', 'unet.e3.conv.conv.4.running_var', 'unet.e3.conv.conv.4.num_batches_tracked', 'unet.e4.conv.conv.0.weight', 'unet.e4.conv.conv.1.weight', 'unet.e4.conv.conv.1.bias', 'unet.e4.conv.conv.1.running_mean', 'unet.e4.conv.conv.1.running_var', 'unet.e4.conv.conv.1.num_batches_tracked', 'unet.e4.conv.conv.3.weight', 'unet.e4.conv.conv.4.weight', 'unet.e4.conv.conv.4.bias', 'unet.e4.conv.conv.4.running_mean', 'unet.e4.conv.conv.4.running_var', 'unet.e4.conv.conv.4.num_batches_tracked', 'unet.b.conv.0.weight', 'unet.b.conv.1.weight', 'unet.b.conv.1.bias', 'unet.b.conv.1.running_mean', 'unet.b.conv.1.running_var', 'unet.b.conv.1.num_batches_tracked', 'unet.b.conv.3.weight', 'unet.b.conv.4.weight', 'unet.b.conv.4.bias', 'unet.b.conv.4.running_mean', 'unet.b.conv.4.running_var', 'unet.b.conv.4.num_batches_tracked', 'unet.d1.up.weight', 'unet.d1.up.bias', 'unet.d1.conv.conv.0.weight', 'unet.d1.conv.conv.1.weight', 'unet.d1.conv.conv.1.bias', 'unet.d1.conv.conv.1.running_mean', 'unet.d1.conv.conv.1.running_var', 'unet.d1.conv.conv.1.num_batches_tracked', 'unet.d1.conv.conv.3.weight', 'unet.d1.conv.conv.4.weight', 'unet.d1.conv.conv.4.bias', 'unet.d1.conv.conv.4.running_mean', 'unet.d1.conv.conv.4.running_var', 'unet.d1.conv.conv.4.num_batches_tracked', 'unet.d2.up.weight', 'unet.d2.up.bias', 'unet.d2.conv.conv.0.weight', 'unet.d2.conv.conv.1.weight', 'unet.d2.conv.conv.1.bias', 'unet.d2.conv.conv.1.running_mean', 'unet.d2.conv.conv.1.running_var', 'unet.d2.conv.conv.1.num_batches_tracked', 'unet.d2.conv.conv.3.weight', 'unet.d2.conv.conv.4.weight', 'unet.d2.conv.conv.4.bias', 'unet.d2.conv.conv.4.running_mean', 'unet.d2.conv.conv.4.running_var', 'unet.d2.conv.conv.4.num_batches_tracked', 'unet.d3.up.weight', 'unet.d3.up.bias', 'unet.d3.conv.conv.0.weight', 'unet.d3.conv.conv.1.weight', 'unet.d3.conv.conv.1.bias', 'unet.d3.conv.conv.1.running_mean', 'unet.d3.conv.conv.1.running_var', 'unet.d3.conv.conv.1.num_batches_tracked', 'unet.d3.conv.conv.3.weight', 'unet.d3.conv.conv.4.weight', 'unet.d3.conv.conv.4.bias', 'unet.d3.conv.conv.4.running_mean', 'unet.d3.conv.conv.4.running_var', 'unet.d3.conv.conv.4.num_batches_tracked', 'unet.d4.up.weight', 'unet.d4.up.bias', 'unet.d4.conv.conv.0.weight', 'unet.d4.conv.conv.1.weight', 'unet.d4.conv.conv.1.bias', 'unet.d4.conv.conv.1.running_mean', 'unet.d4.conv.conv.1.running_var', 'unet.d4.conv.conv.1.num_batches_tracked', 'unet.d4.conv.conv.3.weight', 'unet.d4.conv.conv.4.weight', 'unet.d4.conv.conv.4.bias', 'unet.d4.conv.conv.4.running_mean', 'unet.d4.conv.conv.4.running_var', 'unet.d4.conv.conv.4.num_batches_tracked', 'unet.outputs.weight', 'unet.outputs.bias'])\n"
     ]
    }
   ],
   "source": [
    "print(unet_ckpt[\"state_dict\"].keys())\n",
    "print(model_VAE.unet_regr.state_dict().keys())"
   ]
  },
  {
   "cell_type": "code",
   "execution_count": 9,
   "id": "41ac01e1",
   "metadata": {},
   "outputs": [],
   "source": [
    "#Key mismatch, striiping the prefix unet_regr from the keys of the Unet ckpt for compatibility"
   ]
  },
  {
   "cell_type": "markdown",
   "id": "89f68ee2",
   "metadata": {},
   "source": [
    "Crucial else the following ckpts wont work!!!!!!"
   ]
  },
  {
   "cell_type": "code",
   "execution_count": 10,
   "id": "97d52aa0",
   "metadata": {},
   "outputs": [],
   "source": [
    "remapped_state_dict={}\n",
    "for k,v in unet_ckpt[\"state_dict\"].items():\n",
    "    if k.startswith(\"unet_regr.\"):\n",
    "        new_key=k.replace(\"unet_regr.\",\"unet.\")\n",
    "    else:\n",
    "        new_key=k\n",
    "    remapped_state_dict[new_key]=v"
   ]
  },
  {
   "cell_type": "markdown",
   "id": "ffaf8da5",
   "metadata": {},
   "source": [
    "Following code will not give a key mismatch error "
   ]
  },
  {
   "cell_type": "code",
   "execution_count": 11,
   "id": "2e526038",
   "metadata": {},
   "outputs": [
    {
     "data": {
      "text/plain": [
       "<All keys matched successfully>"
      ]
     },
     "execution_count": 11,
     "metadata": {},
     "output_type": "execute_result"
    }
   ],
   "source": [
    "model_VAE = AutoencoderKL.load_from_checkpoint(\n",
    "    ckpt_vae,\n",
    "    encoder=encoder,\n",
    "    decoder=decoder,\n",
    "    kl_weight=0.01,\n",
    "    ae_flag=\"residual\",\n",
    "    unet_regr=model_UNet,\n",
    "    strict=False\n",
    ")\n",
    "\n",
    "unet_ckpt = torch.load(ckpt_unet, map_location=\"cpu\")\n",
    "model_VAE.unet_regr.load_state_dict(remapped_state_dict, strict=False)"
   ]
  },
  {
   "cell_type": "markdown",
   "id": "39129dde",
   "metadata": {},
   "source": [
    "LDM ckpt loading "
   ]
  },
  {
   "cell_type": "code",
   "execution_count": 12,
   "id": "d8729c64",
   "metadata": {},
   "outputs": [],
   "source": [
    "\n",
    "#instantiating denoiser within the LDM\n",
    "denoiser = UNetModel(\n",
    "    in_channels=32,  # adjust to your latent dim\n",
    "    out_channels=32,\n",
    "    model_channels=64,\n",
    "    num_res_blocks=2,\n",
    "    attention_resolutions=[1, 2, 4],\n",
    "    context_ch=None,\n",
    "    channel_mult=[1, 2, 4, 4],\n",
    "    conv_resample=True,\n",
    "    dims=2,\n",
    "    use_fp16=False,\n",
    "    num_heads=4\n",
    ")\n",
    "\n"
   ]
  },
  {
   "cell_type": "code",
   "execution_count": 13,
   "id": "6b8c1648",
   "metadata": {},
   "outputs": [],
   "source": [
    "dm_ckpt = torch.load(ckpt_ldm, map_location=\"cpu\")\n"
   ]
  },
  {
   "cell_type": "code",
   "execution_count": 18,
   "id": "e180f6e5",
   "metadata": {},
   "outputs": [],
   "source": [
    "#instantiating LDM\n",
    "model_LDM = LatentDiffusion(\n",
    "    denoiser=denoiser,\n",
    "    autoencoder=model_VAE,\n",
    "    timesteps=1000,\n",
    "    beta_schedule=\"linear\",\n",
    "    loss_type=\"l2\",\n",
    "    use_ema=True,\n",
    "    lr=1e-4,\n",
    "    lr_warmup=0,\n",
    "    linear_start=1e-4,\n",
    "    linear_end=2e-2,\n",
    "    cosine_s=8e-3,\n",
    "    parameterization=\"eps\"\n",
    ")\n"
   ]
  },
  {
   "cell_type": "code",
   "execution_count": 19,
   "id": "5e7f17f2",
   "metadata": {},
   "outputs": [],
   "source": [
    "#The keys within LDM ckpt also have to be renamed for compatibiltiy "
   ]
  },
  {
   "cell_type": "code",
   "execution_count": 20,
   "id": "859b85ec",
   "metadata": {},
   "outputs": [],
   "source": [
    "remapped_ldm_state_dict = {}\n",
    "for k, v in dm_ckpt[\"state_dict\"].items():\n",
    "    # Remove both 'autoencoder.unet_regr.unet.' and 'autoencoder.unet_regr.' prefixes\n",
    "    if k.startswith(\"autoencoder.unet_regr.unet.\"):\n",
    "        new_key = \"autoencoder.unet.\" + k[len(\"autoencoder.unet_regr.unet.\"):]\n",
    "    elif k.startswith(\"autoencoder.unet_regr.\"):\n",
    "        new_key = \"autoencoder.unet.\" + k[len(\"autoencoder.unet_regr.\"):]\n",
    "    else:\n",
    "        new_key = k\n",
    "    remapped_ldm_state_dict[new_key] = v"
   ]
  },
  {
   "cell_type": "code",
   "execution_count": 21,
   "id": "c3575f8f",
   "metadata": {},
   "outputs": [
    {
     "data": {
      "text/plain": [
       "_IncompatibleKeys(missing_keys=['autoencoder.unet_regr.unet.e1.conv.conv.0.weight', 'autoencoder.unet_regr.unet.e1.conv.conv.1.weight', 'autoencoder.unet_regr.unet.e1.conv.conv.1.bias', 'autoencoder.unet_regr.unet.e1.conv.conv.1.running_mean', 'autoencoder.unet_regr.unet.e1.conv.conv.1.running_var', 'autoencoder.unet_regr.unet.e1.conv.conv.3.weight', 'autoencoder.unet_regr.unet.e1.conv.conv.4.weight', 'autoencoder.unet_regr.unet.e1.conv.conv.4.bias', 'autoencoder.unet_regr.unet.e1.conv.conv.4.running_mean', 'autoencoder.unet_regr.unet.e1.conv.conv.4.running_var', 'autoencoder.unet_regr.unet.e2.conv.conv.0.weight', 'autoencoder.unet_regr.unet.e2.conv.conv.1.weight', 'autoencoder.unet_regr.unet.e2.conv.conv.1.bias', 'autoencoder.unet_regr.unet.e2.conv.conv.1.running_mean', 'autoencoder.unet_regr.unet.e2.conv.conv.1.running_var', 'autoencoder.unet_regr.unet.e2.conv.conv.3.weight', 'autoencoder.unet_regr.unet.e2.conv.conv.4.weight', 'autoencoder.unet_regr.unet.e2.conv.conv.4.bias', 'autoencoder.unet_regr.unet.e2.conv.conv.4.running_mean', 'autoencoder.unet_regr.unet.e2.conv.conv.4.running_var', 'autoencoder.unet_regr.unet.e3.conv.conv.0.weight', 'autoencoder.unet_regr.unet.e3.conv.conv.1.weight', 'autoencoder.unet_regr.unet.e3.conv.conv.1.bias', 'autoencoder.unet_regr.unet.e3.conv.conv.1.running_mean', 'autoencoder.unet_regr.unet.e3.conv.conv.1.running_var', 'autoencoder.unet_regr.unet.e3.conv.conv.3.weight', 'autoencoder.unet_regr.unet.e3.conv.conv.4.weight', 'autoencoder.unet_regr.unet.e3.conv.conv.4.bias', 'autoencoder.unet_regr.unet.e3.conv.conv.4.running_mean', 'autoencoder.unet_regr.unet.e3.conv.conv.4.running_var', 'autoencoder.unet_regr.unet.e4.conv.conv.0.weight', 'autoencoder.unet_regr.unet.e4.conv.conv.1.weight', 'autoencoder.unet_regr.unet.e4.conv.conv.1.bias', 'autoencoder.unet_regr.unet.e4.conv.conv.1.running_mean', 'autoencoder.unet_regr.unet.e4.conv.conv.1.running_var', 'autoencoder.unet_regr.unet.e4.conv.conv.3.weight', 'autoencoder.unet_regr.unet.e4.conv.conv.4.weight', 'autoencoder.unet_regr.unet.e4.conv.conv.4.bias', 'autoencoder.unet_regr.unet.e4.conv.conv.4.running_mean', 'autoencoder.unet_regr.unet.e4.conv.conv.4.running_var', 'autoencoder.unet_regr.unet.b.conv.0.weight', 'autoencoder.unet_regr.unet.b.conv.1.weight', 'autoencoder.unet_regr.unet.b.conv.1.bias', 'autoencoder.unet_regr.unet.b.conv.1.running_mean', 'autoencoder.unet_regr.unet.b.conv.1.running_var', 'autoencoder.unet_regr.unet.b.conv.3.weight', 'autoencoder.unet_regr.unet.b.conv.4.weight', 'autoencoder.unet_regr.unet.b.conv.4.bias', 'autoencoder.unet_regr.unet.b.conv.4.running_mean', 'autoencoder.unet_regr.unet.b.conv.4.running_var', 'autoencoder.unet_regr.unet.d1.up.weight', 'autoencoder.unet_regr.unet.d1.up.bias', 'autoencoder.unet_regr.unet.d1.conv.conv.0.weight', 'autoencoder.unet_regr.unet.d1.conv.conv.1.weight', 'autoencoder.unet_regr.unet.d1.conv.conv.1.bias', 'autoencoder.unet_regr.unet.d1.conv.conv.1.running_mean', 'autoencoder.unet_regr.unet.d1.conv.conv.1.running_var', 'autoencoder.unet_regr.unet.d1.conv.conv.3.weight', 'autoencoder.unet_regr.unet.d1.conv.conv.4.weight', 'autoencoder.unet_regr.unet.d1.conv.conv.4.bias', 'autoencoder.unet_regr.unet.d1.conv.conv.4.running_mean', 'autoencoder.unet_regr.unet.d1.conv.conv.4.running_var', 'autoencoder.unet_regr.unet.d2.up.weight', 'autoencoder.unet_regr.unet.d2.up.bias', 'autoencoder.unet_regr.unet.d2.conv.conv.0.weight', 'autoencoder.unet_regr.unet.d2.conv.conv.1.weight', 'autoencoder.unet_regr.unet.d2.conv.conv.1.bias', 'autoencoder.unet_regr.unet.d2.conv.conv.1.running_mean', 'autoencoder.unet_regr.unet.d2.conv.conv.1.running_var', 'autoencoder.unet_regr.unet.d2.conv.conv.3.weight', 'autoencoder.unet_regr.unet.d2.conv.conv.4.weight', 'autoencoder.unet_regr.unet.d2.conv.conv.4.bias', 'autoencoder.unet_regr.unet.d2.conv.conv.4.running_mean', 'autoencoder.unet_regr.unet.d2.conv.conv.4.running_var', 'autoencoder.unet_regr.unet.d3.up.weight', 'autoencoder.unet_regr.unet.d3.up.bias', 'autoencoder.unet_regr.unet.d3.conv.conv.0.weight', 'autoencoder.unet_regr.unet.d3.conv.conv.1.weight', 'autoencoder.unet_regr.unet.d3.conv.conv.1.bias', 'autoencoder.unet_regr.unet.d3.conv.conv.1.running_mean', 'autoencoder.unet_regr.unet.d3.conv.conv.1.running_var', 'autoencoder.unet_regr.unet.d3.conv.conv.3.weight', 'autoencoder.unet_regr.unet.d3.conv.conv.4.weight', 'autoencoder.unet_regr.unet.d3.conv.conv.4.bias', 'autoencoder.unet_regr.unet.d3.conv.conv.4.running_mean', 'autoencoder.unet_regr.unet.d3.conv.conv.4.running_var', 'autoencoder.unet_regr.unet.d4.up.weight', 'autoencoder.unet_regr.unet.d4.up.bias', 'autoencoder.unet_regr.unet.d4.conv.conv.0.weight', 'autoencoder.unet_regr.unet.d4.conv.conv.1.weight', 'autoencoder.unet_regr.unet.d4.conv.conv.1.bias', 'autoencoder.unet_regr.unet.d4.conv.conv.1.running_mean', 'autoencoder.unet_regr.unet.d4.conv.conv.1.running_var', 'autoencoder.unet_regr.unet.d4.conv.conv.3.weight', 'autoencoder.unet_regr.unet.d4.conv.conv.4.weight', 'autoencoder.unet_regr.unet.d4.conv.conv.4.bias', 'autoencoder.unet_regr.unet.d4.conv.conv.4.running_mean', 'autoencoder.unet_regr.unet.d4.conv.conv.4.running_var', 'autoencoder.unet_regr.unet.outputs.weight', 'autoencoder.unet_regr.unet.outputs.bias'], unexpected_keys=[])"
      ]
     },
     "execution_count": 21,
     "metadata": {},
     "output_type": "execute_result"
    }
   ],
   "source": [
    "model_LDM.load_state_dict(remapped_ldm_state_dict, strict=False)"
   ]
  },
  {
   "cell_type": "code",
   "execution_count": 22,
   "id": "4a71956a",
   "metadata": {},
   "outputs": [
    {
     "name": "stdout",
     "output_type": "stream",
     "text": [
      "odict_keys(['betas', 'alphas_cumprod', 'alphas_cumprod_prev', 'sqrt_alphas_cumprod', 'sqrt_one_minus_alphas_cumprod', 'denoiser.time_embed.0.weight', 'denoiser.time_embed.0.bias', 'denoiser.time_embed.2.weight', 'denoiser.time_embed.2.bias', 'denoiser.input_blocks.0.0.weight', 'denoiser.input_blocks.0.0.bias', 'denoiser.input_blocks.1.0.in_layers.2.weight', 'denoiser.input_blocks.1.0.in_layers.2.bias', 'denoiser.input_blocks.1.0.emb_layers.1.weight', 'denoiser.input_blocks.1.0.emb_layers.1.bias', 'denoiser.input_blocks.1.0.out_layers.3.weight', 'denoiser.input_blocks.1.0.out_layers.3.bias', 'denoiser.input_blocks.2.0.in_layers.2.weight', 'denoiser.input_blocks.2.0.in_layers.2.bias', 'denoiser.input_blocks.2.0.emb_layers.1.weight', 'denoiser.input_blocks.2.0.emb_layers.1.bias', 'denoiser.input_blocks.2.0.out_layers.3.weight', 'denoiser.input_blocks.2.0.out_layers.3.bias', 'denoiser.input_blocks.3.0.op.weight', 'denoiser.input_blocks.3.0.op.bias', 'denoiser.input_blocks.4.0.in_layers.2.weight', 'denoiser.input_blocks.4.0.in_layers.2.bias', 'denoiser.input_blocks.4.0.emb_layers.1.weight', 'denoiser.input_blocks.4.0.emb_layers.1.bias', 'denoiser.input_blocks.4.0.out_layers.3.weight', 'denoiser.input_blocks.4.0.out_layers.3.bias', 'denoiser.input_blocks.4.0.skip_connection.weight', 'denoiser.input_blocks.4.0.skip_connection.bias', 'denoiser.input_blocks.5.0.in_layers.2.weight', 'denoiser.input_blocks.5.0.in_layers.2.bias', 'denoiser.input_blocks.5.0.emb_layers.1.weight', 'denoiser.input_blocks.5.0.emb_layers.1.bias', 'denoiser.input_blocks.5.0.out_layers.3.weight', 'denoiser.input_blocks.5.0.out_layers.3.bias', 'denoiser.input_blocks.6.0.op.weight', 'denoiser.input_blocks.6.0.op.bias', 'denoiser.input_blocks.7.0.in_layers.2.weight', 'denoiser.input_blocks.7.0.in_layers.2.bias', 'denoiser.input_blocks.7.0.emb_layers.1.weight', 'denoiser.input_blocks.7.0.emb_layers.1.bias', 'denoiser.input_blocks.7.0.out_layers.3.weight', 'denoiser.input_blocks.7.0.out_layers.3.bias', 'denoiser.input_blocks.7.0.skip_connection.weight', 'denoiser.input_blocks.7.0.skip_connection.bias', 'denoiser.input_blocks.8.0.in_layers.2.weight', 'denoiser.input_blocks.8.0.in_layers.2.bias', 'denoiser.input_blocks.8.0.emb_layers.1.weight', 'denoiser.input_blocks.8.0.emb_layers.1.bias', 'denoiser.input_blocks.8.0.out_layers.3.weight', 'denoiser.input_blocks.8.0.out_layers.3.bias', 'denoiser.input_blocks.9.0.op.weight', 'denoiser.input_blocks.9.0.op.bias', 'denoiser.input_blocks.10.0.in_layers.2.weight', 'denoiser.input_blocks.10.0.in_layers.2.bias', 'denoiser.input_blocks.10.0.emb_layers.1.weight', 'denoiser.input_blocks.10.0.emb_layers.1.bias', 'denoiser.input_blocks.10.0.out_layers.3.weight', 'denoiser.input_blocks.10.0.out_layers.3.bias', 'denoiser.input_blocks.11.0.in_layers.2.weight', 'denoiser.input_blocks.11.0.in_layers.2.bias', 'denoiser.input_blocks.11.0.emb_layers.1.weight', 'denoiser.input_blocks.11.0.emb_layers.1.bias', 'denoiser.input_blocks.11.0.out_layers.3.weight', 'denoiser.input_blocks.11.0.out_layers.3.bias', 'denoiser.middle_block.0.in_layers.2.weight', 'denoiser.middle_block.0.in_layers.2.bias', 'denoiser.middle_block.0.emb_layers.1.weight', 'denoiser.middle_block.0.emb_layers.1.bias', 'denoiser.middle_block.0.out_layers.3.weight', 'denoiser.middle_block.0.out_layers.3.bias', 'denoiser.middle_block.1.in_layers.2.weight', 'denoiser.middle_block.1.in_layers.2.bias', 'denoiser.middle_block.1.emb_layers.1.weight', 'denoiser.middle_block.1.emb_layers.1.bias', 'denoiser.middle_block.1.out_layers.3.weight', 'denoiser.middle_block.1.out_layers.3.bias', 'denoiser.output_blocks.0.0.in_layers.2.weight', 'denoiser.output_blocks.0.0.in_layers.2.bias', 'denoiser.output_blocks.0.0.emb_layers.1.weight', 'denoiser.output_blocks.0.0.emb_layers.1.bias', 'denoiser.output_blocks.0.0.out_layers.3.weight', 'denoiser.output_blocks.0.0.out_layers.3.bias', 'denoiser.output_blocks.0.0.skip_connection.weight', 'denoiser.output_blocks.0.0.skip_connection.bias', 'denoiser.output_blocks.1.0.in_layers.2.weight', 'denoiser.output_blocks.1.0.in_layers.2.bias', 'denoiser.output_blocks.1.0.emb_layers.1.weight', 'denoiser.output_blocks.1.0.emb_layers.1.bias', 'denoiser.output_blocks.1.0.out_layers.3.weight', 'denoiser.output_blocks.1.0.out_layers.3.bias', 'denoiser.output_blocks.1.0.skip_connection.weight', 'denoiser.output_blocks.1.0.skip_connection.bias', 'denoiser.output_blocks.2.0.in_layers.2.weight', 'denoiser.output_blocks.2.0.in_layers.2.bias', 'denoiser.output_blocks.2.0.emb_layers.1.weight', 'denoiser.output_blocks.2.0.emb_layers.1.bias', 'denoiser.output_blocks.2.0.out_layers.3.weight', 'denoiser.output_blocks.2.0.out_layers.3.bias', 'denoiser.output_blocks.2.0.skip_connection.weight', 'denoiser.output_blocks.2.0.skip_connection.bias', 'denoiser.output_blocks.2.1.conv.weight', 'denoiser.output_blocks.2.1.conv.bias', 'denoiser.output_blocks.3.0.in_layers.2.weight', 'denoiser.output_blocks.3.0.in_layers.2.bias', 'denoiser.output_blocks.3.0.emb_layers.1.weight', 'denoiser.output_blocks.3.0.emb_layers.1.bias', 'denoiser.output_blocks.3.0.out_layers.3.weight', 'denoiser.output_blocks.3.0.out_layers.3.bias', 'denoiser.output_blocks.3.0.skip_connection.weight', 'denoiser.output_blocks.3.0.skip_connection.bias', 'denoiser.output_blocks.4.0.in_layers.2.weight', 'denoiser.output_blocks.4.0.in_layers.2.bias', 'denoiser.output_blocks.4.0.emb_layers.1.weight', 'denoiser.output_blocks.4.0.emb_layers.1.bias', 'denoiser.output_blocks.4.0.out_layers.3.weight', 'denoiser.output_blocks.4.0.out_layers.3.bias', 'denoiser.output_blocks.4.0.skip_connection.weight', 'denoiser.output_blocks.4.0.skip_connection.bias', 'denoiser.output_blocks.5.0.in_layers.2.weight', 'denoiser.output_blocks.5.0.in_layers.2.bias', 'denoiser.output_blocks.5.0.emb_layers.1.weight', 'denoiser.output_blocks.5.0.emb_layers.1.bias', 'denoiser.output_blocks.5.0.out_layers.3.weight', 'denoiser.output_blocks.5.0.out_layers.3.bias', 'denoiser.output_blocks.5.0.skip_connection.weight', 'denoiser.output_blocks.5.0.skip_connection.bias', 'denoiser.output_blocks.5.1.conv.weight', 'denoiser.output_blocks.5.1.conv.bias', 'denoiser.output_blocks.6.0.in_layers.2.weight', 'denoiser.output_blocks.6.0.in_layers.2.bias', 'denoiser.output_blocks.6.0.emb_layers.1.weight', 'denoiser.output_blocks.6.0.emb_layers.1.bias', 'denoiser.output_blocks.6.0.out_layers.3.weight', 'denoiser.output_blocks.6.0.out_layers.3.bias', 'denoiser.output_blocks.6.0.skip_connection.weight', 'denoiser.output_blocks.6.0.skip_connection.bias', 'denoiser.output_blocks.7.0.in_layers.2.weight', 'denoiser.output_blocks.7.0.in_layers.2.bias', 'denoiser.output_blocks.7.0.emb_layers.1.weight', 'denoiser.output_blocks.7.0.emb_layers.1.bias', 'denoiser.output_blocks.7.0.out_layers.3.weight', 'denoiser.output_blocks.7.0.out_layers.3.bias', 'denoiser.output_blocks.7.0.skip_connection.weight', 'denoiser.output_blocks.7.0.skip_connection.bias', 'denoiser.output_blocks.8.0.in_layers.2.weight', 'denoiser.output_blocks.8.0.in_layers.2.bias', 'denoiser.output_blocks.8.0.emb_layers.1.weight', 'denoiser.output_blocks.8.0.emb_layers.1.bias', 'denoiser.output_blocks.8.0.out_layers.3.weight', 'denoiser.output_blocks.8.0.out_layers.3.bias', 'denoiser.output_blocks.8.0.skip_connection.weight', 'denoiser.output_blocks.8.0.skip_connection.bias', 'denoiser.output_blocks.8.1.conv.weight', 'denoiser.output_blocks.8.1.conv.bias', 'denoiser.output_blocks.9.0.in_layers.2.weight', 'denoiser.output_blocks.9.0.in_layers.2.bias', 'denoiser.output_blocks.9.0.emb_layers.1.weight', 'denoiser.output_blocks.9.0.emb_layers.1.bias', 'denoiser.output_blocks.9.0.out_layers.3.weight', 'denoiser.output_blocks.9.0.out_layers.3.bias', 'denoiser.output_blocks.9.0.skip_connection.weight', 'denoiser.output_blocks.9.0.skip_connection.bias', 'denoiser.output_blocks.10.0.in_layers.2.weight', 'denoiser.output_blocks.10.0.in_layers.2.bias', 'denoiser.output_blocks.10.0.emb_layers.1.weight', 'denoiser.output_blocks.10.0.emb_layers.1.bias', 'denoiser.output_blocks.10.0.out_layers.3.weight', 'denoiser.output_blocks.10.0.out_layers.3.bias', 'denoiser.output_blocks.10.0.skip_connection.weight', 'denoiser.output_blocks.10.0.skip_connection.bias', 'denoiser.output_blocks.11.0.in_layers.2.weight', 'denoiser.output_blocks.11.0.in_layers.2.bias', 'denoiser.output_blocks.11.0.emb_layers.1.weight', 'denoiser.output_blocks.11.0.emb_layers.1.bias', 'denoiser.output_blocks.11.0.out_layers.3.weight', 'denoiser.output_blocks.11.0.out_layers.3.bias', 'denoiser.output_blocks.11.0.skip_connection.weight', 'denoiser.output_blocks.11.0.skip_connection.bias', 'denoiser.out.2.weight', 'denoiser.out.2.bias', 'autoencoder.encoder.net.0.proj.weight', 'autoencoder.encoder.net.0.proj.bias', 'autoencoder.encoder.net.0.conv1.weight', 'autoencoder.encoder.net.0.conv1.bias', 'autoencoder.encoder.net.0.conv2.weight', 'autoencoder.encoder.net.0.conv2.bias', 'autoencoder.encoder.net.0.norm1.weight', 'autoencoder.encoder.net.0.norm1.bias', 'autoencoder.encoder.net.0.norm2.weight', 'autoencoder.encoder.net.0.norm2.bias', 'autoencoder.encoder.net.0.sequence.0.weight', 'autoencoder.encoder.net.0.sequence.0.bias', 'autoencoder.encoder.net.0.sequence.2.weight', 'autoencoder.encoder.net.0.sequence.2.bias', 'autoencoder.encoder.net.0.sequence.3.weight', 'autoencoder.encoder.net.0.sequence.3.bias', 'autoencoder.encoder.net.0.sequence.5.weight', 'autoencoder.encoder.net.0.sequence.5.bias', 'autoencoder.encoder.net.1.weight', 'autoencoder.encoder.net.1.bias', 'autoencoder.encoder.net.2.proj.weight', 'autoencoder.encoder.net.2.proj.bias', 'autoencoder.encoder.net.2.conv1.weight', 'autoencoder.encoder.net.2.conv1.bias', 'autoencoder.encoder.net.2.conv2.weight', 'autoencoder.encoder.net.2.conv2.bias', 'autoencoder.encoder.net.2.norm1.weight', 'autoencoder.encoder.net.2.norm1.bias', 'autoencoder.encoder.net.2.norm2.weight', 'autoencoder.encoder.net.2.norm2.bias', 'autoencoder.encoder.net.2.sequence.0.weight', 'autoencoder.encoder.net.2.sequence.0.bias', 'autoencoder.encoder.net.2.sequence.2.weight', 'autoencoder.encoder.net.2.sequence.2.bias', 'autoencoder.encoder.net.2.sequence.3.weight', 'autoencoder.encoder.net.2.sequence.3.bias', 'autoencoder.encoder.net.2.sequence.5.weight', 'autoencoder.encoder.net.2.sequence.5.bias', 'autoencoder.encoder.net.3.weight', 'autoencoder.encoder.net.3.bias', 'autoencoder.decoder.net.0.weight', 'autoencoder.decoder.net.0.bias', 'autoencoder.decoder.net.1.conv1.weight', 'autoencoder.decoder.net.1.conv1.bias', 'autoencoder.decoder.net.1.conv2.weight', 'autoencoder.decoder.net.1.conv2.bias', 'autoencoder.decoder.net.1.norm1.weight', 'autoencoder.decoder.net.1.norm1.bias', 'autoencoder.decoder.net.1.norm2.weight', 'autoencoder.decoder.net.1.norm2.bias', 'autoencoder.decoder.net.1.sequence.0.weight', 'autoencoder.decoder.net.1.sequence.0.bias', 'autoencoder.decoder.net.1.sequence.2.weight', 'autoencoder.decoder.net.1.sequence.2.bias', 'autoencoder.decoder.net.1.sequence.3.weight', 'autoencoder.decoder.net.1.sequence.3.bias', 'autoencoder.decoder.net.1.sequence.5.weight', 'autoencoder.decoder.net.1.sequence.5.bias', 'autoencoder.decoder.net.2.weight', 'autoencoder.decoder.net.2.bias', 'autoencoder.decoder.net.3.conv1.weight', 'autoencoder.decoder.net.3.conv1.bias', 'autoencoder.decoder.net.3.conv2.weight', 'autoencoder.decoder.net.3.conv2.bias', 'autoencoder.decoder.net.3.norm1.weight', 'autoencoder.decoder.net.3.norm1.bias', 'autoencoder.decoder.net.3.norm2.weight', 'autoencoder.decoder.net.3.norm2.bias', 'autoencoder.decoder.net.3.sequence.0.weight', 'autoencoder.decoder.net.3.sequence.0.bias', 'autoencoder.decoder.net.3.sequence.2.weight', 'autoencoder.decoder.net.3.sequence.2.bias', 'autoencoder.decoder.net.3.sequence.3.weight', 'autoencoder.decoder.net.3.sequence.3.bias', 'autoencoder.decoder.net.3.sequence.5.weight', 'autoencoder.decoder.net.3.sequence.5.bias', 'autoencoder.to_moments.weight', 'autoencoder.to_moments.bias', 'autoencoder.to_decoder.weight', 'autoencoder.to_decoder.bias', 'autoencoder.unet_regr.unet.e1.conv.conv.0.weight', 'autoencoder.unet_regr.unet.e1.conv.conv.1.weight', 'autoencoder.unet_regr.unet.e1.conv.conv.1.bias', 'autoencoder.unet_regr.unet.e1.conv.conv.1.running_mean', 'autoencoder.unet_regr.unet.e1.conv.conv.1.running_var', 'autoencoder.unet_regr.unet.e1.conv.conv.1.num_batches_tracked', 'autoencoder.unet_regr.unet.e1.conv.conv.3.weight', 'autoencoder.unet_regr.unet.e1.conv.conv.4.weight', 'autoencoder.unet_regr.unet.e1.conv.conv.4.bias', 'autoencoder.unet_regr.unet.e1.conv.conv.4.running_mean', 'autoencoder.unet_regr.unet.e1.conv.conv.4.running_var', 'autoencoder.unet_regr.unet.e1.conv.conv.4.num_batches_tracked', 'autoencoder.unet_regr.unet.e2.conv.conv.0.weight', 'autoencoder.unet_regr.unet.e2.conv.conv.1.weight', 'autoencoder.unet_regr.unet.e2.conv.conv.1.bias', 'autoencoder.unet_regr.unet.e2.conv.conv.1.running_mean', 'autoencoder.unet_regr.unet.e2.conv.conv.1.running_var', 'autoencoder.unet_regr.unet.e2.conv.conv.1.num_batches_tracked', 'autoencoder.unet_regr.unet.e2.conv.conv.3.weight', 'autoencoder.unet_regr.unet.e2.conv.conv.4.weight', 'autoencoder.unet_regr.unet.e2.conv.conv.4.bias', 'autoencoder.unet_regr.unet.e2.conv.conv.4.running_mean', 'autoencoder.unet_regr.unet.e2.conv.conv.4.running_var', 'autoencoder.unet_regr.unet.e2.conv.conv.4.num_batches_tracked', 'autoencoder.unet_regr.unet.e3.conv.conv.0.weight', 'autoencoder.unet_regr.unet.e3.conv.conv.1.weight', 'autoencoder.unet_regr.unet.e3.conv.conv.1.bias', 'autoencoder.unet_regr.unet.e3.conv.conv.1.running_mean', 'autoencoder.unet_regr.unet.e3.conv.conv.1.running_var', 'autoencoder.unet_regr.unet.e3.conv.conv.1.num_batches_tracked', 'autoencoder.unet_regr.unet.e3.conv.conv.3.weight', 'autoencoder.unet_regr.unet.e3.conv.conv.4.weight', 'autoencoder.unet_regr.unet.e3.conv.conv.4.bias', 'autoencoder.unet_regr.unet.e3.conv.conv.4.running_mean', 'autoencoder.unet_regr.unet.e3.conv.conv.4.running_var', 'autoencoder.unet_regr.unet.e3.conv.conv.4.num_batches_tracked', 'autoencoder.unet_regr.unet.e4.conv.conv.0.weight', 'autoencoder.unet_regr.unet.e4.conv.conv.1.weight', 'autoencoder.unet_regr.unet.e4.conv.conv.1.bias', 'autoencoder.unet_regr.unet.e4.conv.conv.1.running_mean', 'autoencoder.unet_regr.unet.e4.conv.conv.1.running_var', 'autoencoder.unet_regr.unet.e4.conv.conv.1.num_batches_tracked', 'autoencoder.unet_regr.unet.e4.conv.conv.3.weight', 'autoencoder.unet_regr.unet.e4.conv.conv.4.weight', 'autoencoder.unet_regr.unet.e4.conv.conv.4.bias', 'autoencoder.unet_regr.unet.e4.conv.conv.4.running_mean', 'autoencoder.unet_regr.unet.e4.conv.conv.4.running_var', 'autoencoder.unet_regr.unet.e4.conv.conv.4.num_batches_tracked', 'autoencoder.unet_regr.unet.b.conv.0.weight', 'autoencoder.unet_regr.unet.b.conv.1.weight', 'autoencoder.unet_regr.unet.b.conv.1.bias', 'autoencoder.unet_regr.unet.b.conv.1.running_mean', 'autoencoder.unet_regr.unet.b.conv.1.running_var', 'autoencoder.unet_regr.unet.b.conv.1.num_batches_tracked', 'autoencoder.unet_regr.unet.b.conv.3.weight', 'autoencoder.unet_regr.unet.b.conv.4.weight', 'autoencoder.unet_regr.unet.b.conv.4.bias', 'autoencoder.unet_regr.unet.b.conv.4.running_mean', 'autoencoder.unet_regr.unet.b.conv.4.running_var', 'autoencoder.unet_regr.unet.b.conv.4.num_batches_tracked', 'autoencoder.unet_regr.unet.d1.up.weight', 'autoencoder.unet_regr.unet.d1.up.bias', 'autoencoder.unet_regr.unet.d1.conv.conv.0.weight', 'autoencoder.unet_regr.unet.d1.conv.conv.1.weight', 'autoencoder.unet_regr.unet.d1.conv.conv.1.bias', 'autoencoder.unet_regr.unet.d1.conv.conv.1.running_mean', 'autoencoder.unet_regr.unet.d1.conv.conv.1.running_var', 'autoencoder.unet_regr.unet.d1.conv.conv.1.num_batches_tracked', 'autoencoder.unet_regr.unet.d1.conv.conv.3.weight', 'autoencoder.unet_regr.unet.d1.conv.conv.4.weight', 'autoencoder.unet_regr.unet.d1.conv.conv.4.bias', 'autoencoder.unet_regr.unet.d1.conv.conv.4.running_mean', 'autoencoder.unet_regr.unet.d1.conv.conv.4.running_var', 'autoencoder.unet_regr.unet.d1.conv.conv.4.num_batches_tracked', 'autoencoder.unet_regr.unet.d2.up.weight', 'autoencoder.unet_regr.unet.d2.up.bias', 'autoencoder.unet_regr.unet.d2.conv.conv.0.weight', 'autoencoder.unet_regr.unet.d2.conv.conv.1.weight', 'autoencoder.unet_regr.unet.d2.conv.conv.1.bias', 'autoencoder.unet_regr.unet.d2.conv.conv.1.running_mean', 'autoencoder.unet_regr.unet.d2.conv.conv.1.running_var', 'autoencoder.unet_regr.unet.d2.conv.conv.1.num_batches_tracked', 'autoencoder.unet_regr.unet.d2.conv.conv.3.weight', 'autoencoder.unet_regr.unet.d2.conv.conv.4.weight', 'autoencoder.unet_regr.unet.d2.conv.conv.4.bias', 'autoencoder.unet_regr.unet.d2.conv.conv.4.running_mean', 'autoencoder.unet_regr.unet.d2.conv.conv.4.running_var', 'autoencoder.unet_regr.unet.d2.conv.conv.4.num_batches_tracked', 'autoencoder.unet_regr.unet.d3.up.weight', 'autoencoder.unet_regr.unet.d3.up.bias', 'autoencoder.unet_regr.unet.d3.conv.conv.0.weight', 'autoencoder.unet_regr.unet.d3.conv.conv.1.weight', 'autoencoder.unet_regr.unet.d3.conv.conv.1.bias', 'autoencoder.unet_regr.unet.d3.conv.conv.1.running_mean', 'autoencoder.unet_regr.unet.d3.conv.conv.1.running_var', 'autoencoder.unet_regr.unet.d3.conv.conv.1.num_batches_tracked', 'autoencoder.unet_regr.unet.d3.conv.conv.3.weight', 'autoencoder.unet_regr.unet.d3.conv.conv.4.weight', 'autoencoder.unet_regr.unet.d3.conv.conv.4.bias', 'autoencoder.unet_regr.unet.d3.conv.conv.4.running_mean', 'autoencoder.unet_regr.unet.d3.conv.conv.4.running_var', 'autoencoder.unet_regr.unet.d3.conv.conv.4.num_batches_tracked', 'autoencoder.unet_regr.unet.d4.up.weight', 'autoencoder.unet_regr.unet.d4.up.bias', 'autoencoder.unet_regr.unet.d4.conv.conv.0.weight', 'autoencoder.unet_regr.unet.d4.conv.conv.1.weight', 'autoencoder.unet_regr.unet.d4.conv.conv.1.bias', 'autoencoder.unet_regr.unet.d4.conv.conv.1.running_mean', 'autoencoder.unet_regr.unet.d4.conv.conv.1.running_var', 'autoencoder.unet_regr.unet.d4.conv.conv.1.num_batches_tracked', 'autoencoder.unet_regr.unet.d4.conv.conv.3.weight', 'autoencoder.unet_regr.unet.d4.conv.conv.4.weight', 'autoencoder.unet_regr.unet.d4.conv.conv.4.bias', 'autoencoder.unet_regr.unet.d4.conv.conv.4.running_mean', 'autoencoder.unet_regr.unet.d4.conv.conv.4.running_var', 'autoencoder.unet_regr.unet.d4.conv.conv.4.num_batches_tracked', 'autoencoder.unet_regr.unet.outputs.weight', 'autoencoder.unet_regr.unet.outputs.bias', 'denoiser_ema.decay', 'denoiser_ema.num_updates', 'denoiser_ema.time_embed0weight', 'denoiser_ema.time_embed0bias', 'denoiser_ema.time_embed2weight', 'denoiser_ema.time_embed2bias', 'denoiser_ema.input_blocks00weight', 'denoiser_ema.input_blocks00bias', 'denoiser_ema.input_blocks10in_layers2weight', 'denoiser_ema.input_blocks10in_layers2bias', 'denoiser_ema.input_blocks10emb_layers1weight', 'denoiser_ema.input_blocks10emb_layers1bias', 'denoiser_ema.input_blocks10out_layers3weight', 'denoiser_ema.input_blocks10out_layers3bias', 'denoiser_ema.input_blocks20in_layers2weight', 'denoiser_ema.input_blocks20in_layers2bias', 'denoiser_ema.input_blocks20emb_layers1weight', 'denoiser_ema.input_blocks20emb_layers1bias', 'denoiser_ema.input_blocks20out_layers3weight', 'denoiser_ema.input_blocks20out_layers3bias', 'denoiser_ema.input_blocks30opweight', 'denoiser_ema.input_blocks30opbias', 'denoiser_ema.input_blocks40in_layers2weight', 'denoiser_ema.input_blocks40in_layers2bias', 'denoiser_ema.input_blocks40emb_layers1weight', 'denoiser_ema.input_blocks40emb_layers1bias', 'denoiser_ema.input_blocks40out_layers3weight', 'denoiser_ema.input_blocks40out_layers3bias', 'denoiser_ema.input_blocks40skip_connectionweight', 'denoiser_ema.input_blocks40skip_connectionbias', 'denoiser_ema.input_blocks50in_layers2weight', 'denoiser_ema.input_blocks50in_layers2bias', 'denoiser_ema.input_blocks50emb_layers1weight', 'denoiser_ema.input_blocks50emb_layers1bias', 'denoiser_ema.input_blocks50out_layers3weight', 'denoiser_ema.input_blocks50out_layers3bias', 'denoiser_ema.input_blocks60opweight', 'denoiser_ema.input_blocks60opbias', 'denoiser_ema.input_blocks70in_layers2weight', 'denoiser_ema.input_blocks70in_layers2bias', 'denoiser_ema.input_blocks70emb_layers1weight', 'denoiser_ema.input_blocks70emb_layers1bias', 'denoiser_ema.input_blocks70out_layers3weight', 'denoiser_ema.input_blocks70out_layers3bias', 'denoiser_ema.input_blocks70skip_connectionweight', 'denoiser_ema.input_blocks70skip_connectionbias', 'denoiser_ema.input_blocks80in_layers2weight', 'denoiser_ema.input_blocks80in_layers2bias', 'denoiser_ema.input_blocks80emb_layers1weight', 'denoiser_ema.input_blocks80emb_layers1bias', 'denoiser_ema.input_blocks80out_layers3weight', 'denoiser_ema.input_blocks80out_layers3bias', 'denoiser_ema.input_blocks90opweight', 'denoiser_ema.input_blocks90opbias', 'denoiser_ema.input_blocks100in_layers2weight', 'denoiser_ema.input_blocks100in_layers2bias', 'denoiser_ema.input_blocks100emb_layers1weight', 'denoiser_ema.input_blocks100emb_layers1bias', 'denoiser_ema.input_blocks100out_layers3weight', 'denoiser_ema.input_blocks100out_layers3bias', 'denoiser_ema.input_blocks110in_layers2weight', 'denoiser_ema.input_blocks110in_layers2bias', 'denoiser_ema.input_blocks110emb_layers1weight', 'denoiser_ema.input_blocks110emb_layers1bias', 'denoiser_ema.input_blocks110out_layers3weight', 'denoiser_ema.input_blocks110out_layers3bias', 'denoiser_ema.middle_block0in_layers2weight', 'denoiser_ema.middle_block0in_layers2bias', 'denoiser_ema.middle_block0emb_layers1weight', 'denoiser_ema.middle_block0emb_layers1bias', 'denoiser_ema.middle_block0out_layers3weight', 'denoiser_ema.middle_block0out_layers3bias', 'denoiser_ema.middle_block1in_layers2weight', 'denoiser_ema.middle_block1in_layers2bias', 'denoiser_ema.middle_block1emb_layers1weight', 'denoiser_ema.middle_block1emb_layers1bias', 'denoiser_ema.middle_block1out_layers3weight', 'denoiser_ema.middle_block1out_layers3bias', 'denoiser_ema.output_blocks00in_layers2weight', 'denoiser_ema.output_blocks00in_layers2bias', 'denoiser_ema.output_blocks00emb_layers1weight', 'denoiser_ema.output_blocks00emb_layers1bias', 'denoiser_ema.output_blocks00out_layers3weight', 'denoiser_ema.output_blocks00out_layers3bias', 'denoiser_ema.output_blocks00skip_connectionweight', 'denoiser_ema.output_blocks00skip_connectionbias', 'denoiser_ema.output_blocks10in_layers2weight', 'denoiser_ema.output_blocks10in_layers2bias', 'denoiser_ema.output_blocks10emb_layers1weight', 'denoiser_ema.output_blocks10emb_layers1bias', 'denoiser_ema.output_blocks10out_layers3weight', 'denoiser_ema.output_blocks10out_layers3bias', 'denoiser_ema.output_blocks10skip_connectionweight', 'denoiser_ema.output_blocks10skip_connectionbias', 'denoiser_ema.output_blocks20in_layers2weight', 'denoiser_ema.output_blocks20in_layers2bias', 'denoiser_ema.output_blocks20emb_layers1weight', 'denoiser_ema.output_blocks20emb_layers1bias', 'denoiser_ema.output_blocks20out_layers3weight', 'denoiser_ema.output_blocks20out_layers3bias', 'denoiser_ema.output_blocks20skip_connectionweight', 'denoiser_ema.output_blocks20skip_connectionbias', 'denoiser_ema.output_blocks21convweight', 'denoiser_ema.output_blocks21convbias', 'denoiser_ema.output_blocks30in_layers2weight', 'denoiser_ema.output_blocks30in_layers2bias', 'denoiser_ema.output_blocks30emb_layers1weight', 'denoiser_ema.output_blocks30emb_layers1bias', 'denoiser_ema.output_blocks30out_layers3weight', 'denoiser_ema.output_blocks30out_layers3bias', 'denoiser_ema.output_blocks30skip_connectionweight', 'denoiser_ema.output_blocks30skip_connectionbias', 'denoiser_ema.output_blocks40in_layers2weight', 'denoiser_ema.output_blocks40in_layers2bias', 'denoiser_ema.output_blocks40emb_layers1weight', 'denoiser_ema.output_blocks40emb_layers1bias', 'denoiser_ema.output_blocks40out_layers3weight', 'denoiser_ema.output_blocks40out_layers3bias', 'denoiser_ema.output_blocks40skip_connectionweight', 'denoiser_ema.output_blocks40skip_connectionbias', 'denoiser_ema.output_blocks50in_layers2weight', 'denoiser_ema.output_blocks50in_layers2bias', 'denoiser_ema.output_blocks50emb_layers1weight', 'denoiser_ema.output_blocks50emb_layers1bias', 'denoiser_ema.output_blocks50out_layers3weight', 'denoiser_ema.output_blocks50out_layers3bias', 'denoiser_ema.output_blocks50skip_connectionweight', 'denoiser_ema.output_blocks50skip_connectionbias', 'denoiser_ema.output_blocks51convweight', 'denoiser_ema.output_blocks51convbias', 'denoiser_ema.output_blocks60in_layers2weight', 'denoiser_ema.output_blocks60in_layers2bias', 'denoiser_ema.output_blocks60emb_layers1weight', 'denoiser_ema.output_blocks60emb_layers1bias', 'denoiser_ema.output_blocks60out_layers3weight', 'denoiser_ema.output_blocks60out_layers3bias', 'denoiser_ema.output_blocks60skip_connectionweight', 'denoiser_ema.output_blocks60skip_connectionbias', 'denoiser_ema.output_blocks70in_layers2weight', 'denoiser_ema.output_blocks70in_layers2bias', 'denoiser_ema.output_blocks70emb_layers1weight', 'denoiser_ema.output_blocks70emb_layers1bias', 'denoiser_ema.output_blocks70out_layers3weight', 'denoiser_ema.output_blocks70out_layers3bias', 'denoiser_ema.output_blocks70skip_connectionweight', 'denoiser_ema.output_blocks70skip_connectionbias', 'denoiser_ema.output_blocks80in_layers2weight', 'denoiser_ema.output_blocks80in_layers2bias', 'denoiser_ema.output_blocks80emb_layers1weight', 'denoiser_ema.output_blocks80emb_layers1bias', 'denoiser_ema.output_blocks80out_layers3weight', 'denoiser_ema.output_blocks80out_layers3bias', 'denoiser_ema.output_blocks80skip_connectionweight', 'denoiser_ema.output_blocks80skip_connectionbias', 'denoiser_ema.output_blocks81convweight', 'denoiser_ema.output_blocks81convbias', 'denoiser_ema.output_blocks90in_layers2weight', 'denoiser_ema.output_blocks90in_layers2bias', 'denoiser_ema.output_blocks90emb_layers1weight', 'denoiser_ema.output_blocks90emb_layers1bias', 'denoiser_ema.output_blocks90out_layers3weight', 'denoiser_ema.output_blocks90out_layers3bias', 'denoiser_ema.output_blocks90skip_connectionweight', 'denoiser_ema.output_blocks90skip_connectionbias', 'denoiser_ema.output_blocks100in_layers2weight', 'denoiser_ema.output_blocks100in_layers2bias', 'denoiser_ema.output_blocks100emb_layers1weight', 'denoiser_ema.output_blocks100emb_layers1bias', 'denoiser_ema.output_blocks100out_layers3weight', 'denoiser_ema.output_blocks100out_layers3bias', 'denoiser_ema.output_blocks100skip_connectionweight', 'denoiser_ema.output_blocks100skip_connectionbias', 'denoiser_ema.output_blocks110in_layers2weight', 'denoiser_ema.output_blocks110in_layers2bias', 'denoiser_ema.output_blocks110emb_layers1weight', 'denoiser_ema.output_blocks110emb_layers1bias', 'denoiser_ema.output_blocks110out_layers3weight', 'denoiser_ema.output_blocks110out_layers3bias', 'denoiser_ema.output_blocks110skip_connectionweight', 'denoiser_ema.output_blocks110skip_connectionbias', 'denoiser_ema.out2weight', 'denoiser_ema.out2bias'])\n",
      "dict_keys(['betas', 'alphas_cumprod', 'alphas_cumprod_prev', 'sqrt_alphas_cumprod', 'sqrt_one_minus_alphas_cumprod', 'denoiser.time_embed.0.weight', 'denoiser.time_embed.0.bias', 'denoiser.time_embed.2.weight', 'denoiser.time_embed.2.bias', 'denoiser.input_blocks.0.0.weight', 'denoiser.input_blocks.0.0.bias', 'denoiser.input_blocks.1.0.in_layers.2.weight', 'denoiser.input_blocks.1.0.in_layers.2.bias', 'denoiser.input_blocks.1.0.emb_layers.1.weight', 'denoiser.input_blocks.1.0.emb_layers.1.bias', 'denoiser.input_blocks.1.0.out_layers.3.weight', 'denoiser.input_blocks.1.0.out_layers.3.bias', 'denoiser.input_blocks.2.0.in_layers.2.weight', 'denoiser.input_blocks.2.0.in_layers.2.bias', 'denoiser.input_blocks.2.0.emb_layers.1.weight', 'denoiser.input_blocks.2.0.emb_layers.1.bias', 'denoiser.input_blocks.2.0.out_layers.3.weight', 'denoiser.input_blocks.2.0.out_layers.3.bias', 'denoiser.input_blocks.3.0.op.weight', 'denoiser.input_blocks.3.0.op.bias', 'denoiser.input_blocks.4.0.in_layers.2.weight', 'denoiser.input_blocks.4.0.in_layers.2.bias', 'denoiser.input_blocks.4.0.emb_layers.1.weight', 'denoiser.input_blocks.4.0.emb_layers.1.bias', 'denoiser.input_blocks.4.0.out_layers.3.weight', 'denoiser.input_blocks.4.0.out_layers.3.bias', 'denoiser.input_blocks.4.0.skip_connection.weight', 'denoiser.input_blocks.4.0.skip_connection.bias', 'denoiser.input_blocks.5.0.in_layers.2.weight', 'denoiser.input_blocks.5.0.in_layers.2.bias', 'denoiser.input_blocks.5.0.emb_layers.1.weight', 'denoiser.input_blocks.5.0.emb_layers.1.bias', 'denoiser.input_blocks.5.0.out_layers.3.weight', 'denoiser.input_blocks.5.0.out_layers.3.bias', 'denoiser.input_blocks.6.0.op.weight', 'denoiser.input_blocks.6.0.op.bias', 'denoiser.input_blocks.7.0.in_layers.2.weight', 'denoiser.input_blocks.7.0.in_layers.2.bias', 'denoiser.input_blocks.7.0.emb_layers.1.weight', 'denoiser.input_blocks.7.0.emb_layers.1.bias', 'denoiser.input_blocks.7.0.out_layers.3.weight', 'denoiser.input_blocks.7.0.out_layers.3.bias', 'denoiser.input_blocks.7.0.skip_connection.weight', 'denoiser.input_blocks.7.0.skip_connection.bias', 'denoiser.input_blocks.8.0.in_layers.2.weight', 'denoiser.input_blocks.8.0.in_layers.2.bias', 'denoiser.input_blocks.8.0.emb_layers.1.weight', 'denoiser.input_blocks.8.0.emb_layers.1.bias', 'denoiser.input_blocks.8.0.out_layers.3.weight', 'denoiser.input_blocks.8.0.out_layers.3.bias', 'denoiser.input_blocks.9.0.op.weight', 'denoiser.input_blocks.9.0.op.bias', 'denoiser.input_blocks.10.0.in_layers.2.weight', 'denoiser.input_blocks.10.0.in_layers.2.bias', 'denoiser.input_blocks.10.0.emb_layers.1.weight', 'denoiser.input_blocks.10.0.emb_layers.1.bias', 'denoiser.input_blocks.10.0.out_layers.3.weight', 'denoiser.input_blocks.10.0.out_layers.3.bias', 'denoiser.input_blocks.11.0.in_layers.2.weight', 'denoiser.input_blocks.11.0.in_layers.2.bias', 'denoiser.input_blocks.11.0.emb_layers.1.weight', 'denoiser.input_blocks.11.0.emb_layers.1.bias', 'denoiser.input_blocks.11.0.out_layers.3.weight', 'denoiser.input_blocks.11.0.out_layers.3.bias', 'denoiser.middle_block.0.in_layers.2.weight', 'denoiser.middle_block.0.in_layers.2.bias', 'denoiser.middle_block.0.emb_layers.1.weight', 'denoiser.middle_block.0.emb_layers.1.bias', 'denoiser.middle_block.0.out_layers.3.weight', 'denoiser.middle_block.0.out_layers.3.bias', 'denoiser.middle_block.1.in_layers.2.weight', 'denoiser.middle_block.1.in_layers.2.bias', 'denoiser.middle_block.1.emb_layers.1.weight', 'denoiser.middle_block.1.emb_layers.1.bias', 'denoiser.middle_block.1.out_layers.3.weight', 'denoiser.middle_block.1.out_layers.3.bias', 'denoiser.output_blocks.0.0.in_layers.2.weight', 'denoiser.output_blocks.0.0.in_layers.2.bias', 'denoiser.output_blocks.0.0.emb_layers.1.weight', 'denoiser.output_blocks.0.0.emb_layers.1.bias', 'denoiser.output_blocks.0.0.out_layers.3.weight', 'denoiser.output_blocks.0.0.out_layers.3.bias', 'denoiser.output_blocks.0.0.skip_connection.weight', 'denoiser.output_blocks.0.0.skip_connection.bias', 'denoiser.output_blocks.1.0.in_layers.2.weight', 'denoiser.output_blocks.1.0.in_layers.2.bias', 'denoiser.output_blocks.1.0.emb_layers.1.weight', 'denoiser.output_blocks.1.0.emb_layers.1.bias', 'denoiser.output_blocks.1.0.out_layers.3.weight', 'denoiser.output_blocks.1.0.out_layers.3.bias', 'denoiser.output_blocks.1.0.skip_connection.weight', 'denoiser.output_blocks.1.0.skip_connection.bias', 'denoiser.output_blocks.2.0.in_layers.2.weight', 'denoiser.output_blocks.2.0.in_layers.2.bias', 'denoiser.output_blocks.2.0.emb_layers.1.weight', 'denoiser.output_blocks.2.0.emb_layers.1.bias', 'denoiser.output_blocks.2.0.out_layers.3.weight', 'denoiser.output_blocks.2.0.out_layers.3.bias', 'denoiser.output_blocks.2.0.skip_connection.weight', 'denoiser.output_blocks.2.0.skip_connection.bias', 'denoiser.output_blocks.2.1.conv.weight', 'denoiser.output_blocks.2.1.conv.bias', 'denoiser.output_blocks.3.0.in_layers.2.weight', 'denoiser.output_blocks.3.0.in_layers.2.bias', 'denoiser.output_blocks.3.0.emb_layers.1.weight', 'denoiser.output_blocks.3.0.emb_layers.1.bias', 'denoiser.output_blocks.3.0.out_layers.3.weight', 'denoiser.output_blocks.3.0.out_layers.3.bias', 'denoiser.output_blocks.3.0.skip_connection.weight', 'denoiser.output_blocks.3.0.skip_connection.bias', 'denoiser.output_blocks.4.0.in_layers.2.weight', 'denoiser.output_blocks.4.0.in_layers.2.bias', 'denoiser.output_blocks.4.0.emb_layers.1.weight', 'denoiser.output_blocks.4.0.emb_layers.1.bias', 'denoiser.output_blocks.4.0.out_layers.3.weight', 'denoiser.output_blocks.4.0.out_layers.3.bias', 'denoiser.output_blocks.4.0.skip_connection.weight', 'denoiser.output_blocks.4.0.skip_connection.bias', 'denoiser.output_blocks.5.0.in_layers.2.weight', 'denoiser.output_blocks.5.0.in_layers.2.bias', 'denoiser.output_blocks.5.0.emb_layers.1.weight', 'denoiser.output_blocks.5.0.emb_layers.1.bias', 'denoiser.output_blocks.5.0.out_layers.3.weight', 'denoiser.output_blocks.5.0.out_layers.3.bias', 'denoiser.output_blocks.5.0.skip_connection.weight', 'denoiser.output_blocks.5.0.skip_connection.bias', 'denoiser.output_blocks.5.1.conv.weight', 'denoiser.output_blocks.5.1.conv.bias', 'denoiser.output_blocks.6.0.in_layers.2.weight', 'denoiser.output_blocks.6.0.in_layers.2.bias', 'denoiser.output_blocks.6.0.emb_layers.1.weight', 'denoiser.output_blocks.6.0.emb_layers.1.bias', 'denoiser.output_blocks.6.0.out_layers.3.weight', 'denoiser.output_blocks.6.0.out_layers.3.bias', 'denoiser.output_blocks.6.0.skip_connection.weight', 'denoiser.output_blocks.6.0.skip_connection.bias', 'denoiser.output_blocks.7.0.in_layers.2.weight', 'denoiser.output_blocks.7.0.in_layers.2.bias', 'denoiser.output_blocks.7.0.emb_layers.1.weight', 'denoiser.output_blocks.7.0.emb_layers.1.bias', 'denoiser.output_blocks.7.0.out_layers.3.weight', 'denoiser.output_blocks.7.0.out_layers.3.bias', 'denoiser.output_blocks.7.0.skip_connection.weight', 'denoiser.output_blocks.7.0.skip_connection.bias', 'denoiser.output_blocks.8.0.in_layers.2.weight', 'denoiser.output_blocks.8.0.in_layers.2.bias', 'denoiser.output_blocks.8.0.emb_layers.1.weight', 'denoiser.output_blocks.8.0.emb_layers.1.bias', 'denoiser.output_blocks.8.0.out_layers.3.weight', 'denoiser.output_blocks.8.0.out_layers.3.bias', 'denoiser.output_blocks.8.0.skip_connection.weight', 'denoiser.output_blocks.8.0.skip_connection.bias', 'denoiser.output_blocks.8.1.conv.weight', 'denoiser.output_blocks.8.1.conv.bias', 'denoiser.output_blocks.9.0.in_layers.2.weight', 'denoiser.output_blocks.9.0.in_layers.2.bias', 'denoiser.output_blocks.9.0.emb_layers.1.weight', 'denoiser.output_blocks.9.0.emb_layers.1.bias', 'denoiser.output_blocks.9.0.out_layers.3.weight', 'denoiser.output_blocks.9.0.out_layers.3.bias', 'denoiser.output_blocks.9.0.skip_connection.weight', 'denoiser.output_blocks.9.0.skip_connection.bias', 'denoiser.output_blocks.10.0.in_layers.2.weight', 'denoiser.output_blocks.10.0.in_layers.2.bias', 'denoiser.output_blocks.10.0.emb_layers.1.weight', 'denoiser.output_blocks.10.0.emb_layers.1.bias', 'denoiser.output_blocks.10.0.out_layers.3.weight', 'denoiser.output_blocks.10.0.out_layers.3.bias', 'denoiser.output_blocks.10.0.skip_connection.weight', 'denoiser.output_blocks.10.0.skip_connection.bias', 'denoiser.output_blocks.11.0.in_layers.2.weight', 'denoiser.output_blocks.11.0.in_layers.2.bias', 'denoiser.output_blocks.11.0.emb_layers.1.weight', 'denoiser.output_blocks.11.0.emb_layers.1.bias', 'denoiser.output_blocks.11.0.out_layers.3.weight', 'denoiser.output_blocks.11.0.out_layers.3.bias', 'denoiser.output_blocks.11.0.skip_connection.weight', 'denoiser.output_blocks.11.0.skip_connection.bias', 'denoiser.out.2.weight', 'denoiser.out.2.bias', 'autoencoder.encoder.net.0.proj.weight', 'autoencoder.encoder.net.0.proj.bias', 'autoencoder.encoder.net.0.conv1.weight', 'autoencoder.encoder.net.0.conv1.bias', 'autoencoder.encoder.net.0.conv2.weight', 'autoencoder.encoder.net.0.conv2.bias', 'autoencoder.encoder.net.0.norm1.weight', 'autoencoder.encoder.net.0.norm1.bias', 'autoencoder.encoder.net.0.norm2.weight', 'autoencoder.encoder.net.0.norm2.bias', 'autoencoder.encoder.net.0.sequence.0.weight', 'autoencoder.encoder.net.0.sequence.0.bias', 'autoencoder.encoder.net.0.sequence.2.weight', 'autoencoder.encoder.net.0.sequence.2.bias', 'autoencoder.encoder.net.0.sequence.3.weight', 'autoencoder.encoder.net.0.sequence.3.bias', 'autoencoder.encoder.net.0.sequence.5.weight', 'autoencoder.encoder.net.0.sequence.5.bias', 'autoencoder.encoder.net.1.weight', 'autoencoder.encoder.net.1.bias', 'autoencoder.encoder.net.2.proj.weight', 'autoencoder.encoder.net.2.proj.bias', 'autoencoder.encoder.net.2.conv1.weight', 'autoencoder.encoder.net.2.conv1.bias', 'autoencoder.encoder.net.2.conv2.weight', 'autoencoder.encoder.net.2.conv2.bias', 'autoencoder.encoder.net.2.norm1.weight', 'autoencoder.encoder.net.2.norm1.bias', 'autoencoder.encoder.net.2.norm2.weight', 'autoencoder.encoder.net.2.norm2.bias', 'autoencoder.encoder.net.2.sequence.0.weight', 'autoencoder.encoder.net.2.sequence.0.bias', 'autoencoder.encoder.net.2.sequence.2.weight', 'autoencoder.encoder.net.2.sequence.2.bias', 'autoencoder.encoder.net.2.sequence.3.weight', 'autoencoder.encoder.net.2.sequence.3.bias', 'autoencoder.encoder.net.2.sequence.5.weight', 'autoencoder.encoder.net.2.sequence.5.bias', 'autoencoder.encoder.net.3.weight', 'autoencoder.encoder.net.3.bias', 'autoencoder.decoder.net.0.weight', 'autoencoder.decoder.net.0.bias', 'autoencoder.decoder.net.1.conv1.weight', 'autoencoder.decoder.net.1.conv1.bias', 'autoencoder.decoder.net.1.conv2.weight', 'autoencoder.decoder.net.1.conv2.bias', 'autoencoder.decoder.net.1.norm1.weight', 'autoencoder.decoder.net.1.norm1.bias', 'autoencoder.decoder.net.1.norm2.weight', 'autoencoder.decoder.net.1.norm2.bias', 'autoencoder.decoder.net.1.sequence.0.weight', 'autoencoder.decoder.net.1.sequence.0.bias', 'autoencoder.decoder.net.1.sequence.2.weight', 'autoencoder.decoder.net.1.sequence.2.bias', 'autoencoder.decoder.net.1.sequence.3.weight', 'autoencoder.decoder.net.1.sequence.3.bias', 'autoencoder.decoder.net.1.sequence.5.weight', 'autoencoder.decoder.net.1.sequence.5.bias', 'autoencoder.decoder.net.2.weight', 'autoencoder.decoder.net.2.bias', 'autoencoder.decoder.net.3.conv1.weight', 'autoencoder.decoder.net.3.conv1.bias', 'autoencoder.decoder.net.3.conv2.weight', 'autoencoder.decoder.net.3.conv2.bias', 'autoencoder.decoder.net.3.norm1.weight', 'autoencoder.decoder.net.3.norm1.bias', 'autoencoder.decoder.net.3.norm2.weight', 'autoencoder.decoder.net.3.norm2.bias', 'autoencoder.decoder.net.3.sequence.0.weight', 'autoencoder.decoder.net.3.sequence.0.bias', 'autoencoder.decoder.net.3.sequence.2.weight', 'autoencoder.decoder.net.3.sequence.2.bias', 'autoencoder.decoder.net.3.sequence.3.weight', 'autoencoder.decoder.net.3.sequence.3.bias', 'autoencoder.decoder.net.3.sequence.5.weight', 'autoencoder.decoder.net.3.sequence.5.bias', 'autoencoder.to_moments.weight', 'autoencoder.to_moments.bias', 'autoencoder.to_decoder.weight', 'autoencoder.to_decoder.bias', 'denoiser_ema.decay', 'denoiser_ema.num_updates', 'denoiser_ema.time_embed0weight', 'denoiser_ema.time_embed0bias', 'denoiser_ema.time_embed2weight', 'denoiser_ema.time_embed2bias', 'denoiser_ema.input_blocks00weight', 'denoiser_ema.input_blocks00bias', 'denoiser_ema.input_blocks10in_layers2weight', 'denoiser_ema.input_blocks10in_layers2bias', 'denoiser_ema.input_blocks10emb_layers1weight', 'denoiser_ema.input_blocks10emb_layers1bias', 'denoiser_ema.input_blocks10out_layers3weight', 'denoiser_ema.input_blocks10out_layers3bias', 'denoiser_ema.input_blocks20in_layers2weight', 'denoiser_ema.input_blocks20in_layers2bias', 'denoiser_ema.input_blocks20emb_layers1weight', 'denoiser_ema.input_blocks20emb_layers1bias', 'denoiser_ema.input_blocks20out_layers3weight', 'denoiser_ema.input_blocks20out_layers3bias', 'denoiser_ema.input_blocks30opweight', 'denoiser_ema.input_blocks30opbias', 'denoiser_ema.input_blocks40in_layers2weight', 'denoiser_ema.input_blocks40in_layers2bias', 'denoiser_ema.input_blocks40emb_layers1weight', 'denoiser_ema.input_blocks40emb_layers1bias', 'denoiser_ema.input_blocks40out_layers3weight', 'denoiser_ema.input_blocks40out_layers3bias', 'denoiser_ema.input_blocks40skip_connectionweight', 'denoiser_ema.input_blocks40skip_connectionbias', 'denoiser_ema.input_blocks50in_layers2weight', 'denoiser_ema.input_blocks50in_layers2bias', 'denoiser_ema.input_blocks50emb_layers1weight', 'denoiser_ema.input_blocks50emb_layers1bias', 'denoiser_ema.input_blocks50out_layers3weight', 'denoiser_ema.input_blocks50out_layers3bias', 'denoiser_ema.input_blocks60opweight', 'denoiser_ema.input_blocks60opbias', 'denoiser_ema.input_blocks70in_layers2weight', 'denoiser_ema.input_blocks70in_layers2bias', 'denoiser_ema.input_blocks70emb_layers1weight', 'denoiser_ema.input_blocks70emb_layers1bias', 'denoiser_ema.input_blocks70out_layers3weight', 'denoiser_ema.input_blocks70out_layers3bias', 'denoiser_ema.input_blocks70skip_connectionweight', 'denoiser_ema.input_blocks70skip_connectionbias', 'denoiser_ema.input_blocks80in_layers2weight', 'denoiser_ema.input_blocks80in_layers2bias', 'denoiser_ema.input_blocks80emb_layers1weight', 'denoiser_ema.input_blocks80emb_layers1bias', 'denoiser_ema.input_blocks80out_layers3weight', 'denoiser_ema.input_blocks80out_layers3bias', 'denoiser_ema.input_blocks90opweight', 'denoiser_ema.input_blocks90opbias', 'denoiser_ema.input_blocks100in_layers2weight', 'denoiser_ema.input_blocks100in_layers2bias', 'denoiser_ema.input_blocks100emb_layers1weight', 'denoiser_ema.input_blocks100emb_layers1bias', 'denoiser_ema.input_blocks100out_layers3weight', 'denoiser_ema.input_blocks100out_layers3bias', 'denoiser_ema.input_blocks110in_layers2weight', 'denoiser_ema.input_blocks110in_layers2bias', 'denoiser_ema.input_blocks110emb_layers1weight', 'denoiser_ema.input_blocks110emb_layers1bias', 'denoiser_ema.input_blocks110out_layers3weight', 'denoiser_ema.input_blocks110out_layers3bias', 'denoiser_ema.middle_block0in_layers2weight', 'denoiser_ema.middle_block0in_layers2bias', 'denoiser_ema.middle_block0emb_layers1weight', 'denoiser_ema.middle_block0emb_layers1bias', 'denoiser_ema.middle_block0out_layers3weight', 'denoiser_ema.middle_block0out_layers3bias', 'denoiser_ema.middle_block1in_layers2weight', 'denoiser_ema.middle_block1in_layers2bias', 'denoiser_ema.middle_block1emb_layers1weight', 'denoiser_ema.middle_block1emb_layers1bias', 'denoiser_ema.middle_block1out_layers3weight', 'denoiser_ema.middle_block1out_layers3bias', 'denoiser_ema.output_blocks00in_layers2weight', 'denoiser_ema.output_blocks00in_layers2bias', 'denoiser_ema.output_blocks00emb_layers1weight', 'denoiser_ema.output_blocks00emb_layers1bias', 'denoiser_ema.output_blocks00out_layers3weight', 'denoiser_ema.output_blocks00out_layers3bias', 'denoiser_ema.output_blocks00skip_connectionweight', 'denoiser_ema.output_blocks00skip_connectionbias', 'denoiser_ema.output_blocks10in_layers2weight', 'denoiser_ema.output_blocks10in_layers2bias', 'denoiser_ema.output_blocks10emb_layers1weight', 'denoiser_ema.output_blocks10emb_layers1bias', 'denoiser_ema.output_blocks10out_layers3weight', 'denoiser_ema.output_blocks10out_layers3bias', 'denoiser_ema.output_blocks10skip_connectionweight', 'denoiser_ema.output_blocks10skip_connectionbias', 'denoiser_ema.output_blocks20in_layers2weight', 'denoiser_ema.output_blocks20in_layers2bias', 'denoiser_ema.output_blocks20emb_layers1weight', 'denoiser_ema.output_blocks20emb_layers1bias', 'denoiser_ema.output_blocks20out_layers3weight', 'denoiser_ema.output_blocks20out_layers3bias', 'denoiser_ema.output_blocks20skip_connectionweight', 'denoiser_ema.output_blocks20skip_connectionbias', 'denoiser_ema.output_blocks21convweight', 'denoiser_ema.output_blocks21convbias', 'denoiser_ema.output_blocks30in_layers2weight', 'denoiser_ema.output_blocks30in_layers2bias', 'denoiser_ema.output_blocks30emb_layers1weight', 'denoiser_ema.output_blocks30emb_layers1bias', 'denoiser_ema.output_blocks30out_layers3weight', 'denoiser_ema.output_blocks30out_layers3bias', 'denoiser_ema.output_blocks30skip_connectionweight', 'denoiser_ema.output_blocks30skip_connectionbias', 'denoiser_ema.output_blocks40in_layers2weight', 'denoiser_ema.output_blocks40in_layers2bias', 'denoiser_ema.output_blocks40emb_layers1weight', 'denoiser_ema.output_blocks40emb_layers1bias', 'denoiser_ema.output_blocks40out_layers3weight', 'denoiser_ema.output_blocks40out_layers3bias', 'denoiser_ema.output_blocks40skip_connectionweight', 'denoiser_ema.output_blocks40skip_connectionbias', 'denoiser_ema.output_blocks50in_layers2weight', 'denoiser_ema.output_blocks50in_layers2bias', 'denoiser_ema.output_blocks50emb_layers1weight', 'denoiser_ema.output_blocks50emb_layers1bias', 'denoiser_ema.output_blocks50out_layers3weight', 'denoiser_ema.output_blocks50out_layers3bias', 'denoiser_ema.output_blocks50skip_connectionweight', 'denoiser_ema.output_blocks50skip_connectionbias', 'denoiser_ema.output_blocks51convweight', 'denoiser_ema.output_blocks51convbias', 'denoiser_ema.output_blocks60in_layers2weight', 'denoiser_ema.output_blocks60in_layers2bias', 'denoiser_ema.output_blocks60emb_layers1weight', 'denoiser_ema.output_blocks60emb_layers1bias', 'denoiser_ema.output_blocks60out_layers3weight', 'denoiser_ema.output_blocks60out_layers3bias', 'denoiser_ema.output_blocks60skip_connectionweight', 'denoiser_ema.output_blocks60skip_connectionbias', 'denoiser_ema.output_blocks70in_layers2weight', 'denoiser_ema.output_blocks70in_layers2bias', 'denoiser_ema.output_blocks70emb_layers1weight', 'denoiser_ema.output_blocks70emb_layers1bias', 'denoiser_ema.output_blocks70out_layers3weight', 'denoiser_ema.output_blocks70out_layers3bias', 'denoiser_ema.output_blocks70skip_connectionweight', 'denoiser_ema.output_blocks70skip_connectionbias', 'denoiser_ema.output_blocks80in_layers2weight', 'denoiser_ema.output_blocks80in_layers2bias', 'denoiser_ema.output_blocks80emb_layers1weight', 'denoiser_ema.output_blocks80emb_layers1bias', 'denoiser_ema.output_blocks80out_layers3weight', 'denoiser_ema.output_blocks80out_layers3bias', 'denoiser_ema.output_blocks80skip_connectionweight', 'denoiser_ema.output_blocks80skip_connectionbias', 'denoiser_ema.output_blocks81convweight', 'denoiser_ema.output_blocks81convbias', 'denoiser_ema.output_blocks90in_layers2weight', 'denoiser_ema.output_blocks90in_layers2bias', 'denoiser_ema.output_blocks90emb_layers1weight', 'denoiser_ema.output_blocks90emb_layers1bias', 'denoiser_ema.output_blocks90out_layers3weight', 'denoiser_ema.output_blocks90out_layers3bias', 'denoiser_ema.output_blocks90skip_connectionweight', 'denoiser_ema.output_blocks90skip_connectionbias', 'denoiser_ema.output_blocks100in_layers2weight', 'denoiser_ema.output_blocks100in_layers2bias', 'denoiser_ema.output_blocks100emb_layers1weight', 'denoiser_ema.output_blocks100emb_layers1bias', 'denoiser_ema.output_blocks100out_layers3weight', 'denoiser_ema.output_blocks100out_layers3bias', 'denoiser_ema.output_blocks100skip_connectionweight', 'denoiser_ema.output_blocks100skip_connectionbias', 'denoiser_ema.output_blocks110in_layers2weight', 'denoiser_ema.output_blocks110in_layers2bias', 'denoiser_ema.output_blocks110emb_layers1weight', 'denoiser_ema.output_blocks110emb_layers1bias', 'denoiser_ema.output_blocks110out_layers3weight', 'denoiser_ema.output_blocks110out_layers3bias', 'denoiser_ema.output_blocks110skip_connectionweight', 'denoiser_ema.output_blocks110skip_connectionbias', 'denoiser_ema.out2weight', 'denoiser_ema.out2bias'])\n"
     ]
    }
   ],
   "source": [
    "#Expected vs real key \n",
    "print(model_LDM.state_dict().keys())\n",
    "print(remapped_ldm_state_dict.keys())"
   ]
  },
  {
   "cell_type": "markdown",
   "id": "93ff5a27",
   "metadata": {},
   "source": [
    "Extra key above, rest matching, not giving an issue if strict=False"
   ]
  },
  {
   "cell_type": "code",
   "execution_count": 31,
   "id": "f0512f9d",
   "metadata": {},
   "outputs": [],
   "source": [
    "dm = DownscalingDataModule(\n",
    "    train_input={\n",
    "        \"precip\": \"/work/FAC/FGSE/IDYST/tbeucler/downscaling/sasthana/Downscaling/Downscaling_Models/Training_Chronological_Dataset/RhiresD_input_train_chronological_scaled.nc\",\n",
    "        \"temp\": \"/work/FAC/FGSE/IDYST/tbeucler/downscaling/sasthana/Downscaling/Downscaling_Models/Training_Chronological_Dataset/TabsD_input_train_chronological_scaled.nc\",\n",
    "        \"temp_min\": \"/work/FAC/FGSE/IDYST/tbeucler/downscaling/sasthana/Downscaling/Downscaling_Models/Training_Chronological_Dataset/TminD_input_train_chronological_scaled.nc\",\n",
    "        \"temp_max\": \"/work/FAC/FGSE/IDYST/tbeucler/downscaling/sasthana/Downscaling/Downscaling_Models/Training_Chronological_Dataset/TmaxD_input_train_chronological_scaled.nc\"\n",
    "    },\n",
    "    train_target={\n",
    "        \"precip\": \"/work/FAC/FGSE/IDYST/tbeucler/downscaling/sasthana/Downscaling/Downscaling_Models/Training_Chronological_Dataset/RhiresD_target_train_chronological_scaled.nc\",\n",
    "        \"temp\": \"/work/FAC/FGSE/IDYST/tbeucler/downscaling/sasthana/Downscaling/Downscaling_Models/Training_Chronological_Dataset/TabsD_target_train_chronological_scaled.nc\",\n",
    "        \"temp_min\": \"/work/FAC/FGSE/IDYST/tbeucler/downscaling/sasthana/Downscaling/Downscaling_Models/Training_Chronological_Dataset/TminD_target_train_chronological_scaled.nc\",\n",
    "        \"temp_max\": \"/work/FAC/FGSE/IDYST/tbeucler/downscaling/sasthana/Downscaling/Downscaling_Models/Training_Chronological_Dataset/TmaxD_target_train_chronological_scaled.nc\"\n",
    "    },\n",
    "    elevation=\"/work/FAC/FGSE/IDYST/tbeucler/downscaling/sasthana/Downscaling/Downscaling_Models/elevation.tif\",\n",
    "    batch_size=32,\n",
    "    num_workers=4,\n",
    "    preprocessing={\n",
    "        \"variables\": {\n",
    "            \"input\": {\n",
    "                \"precip\": \"RhiresD\",\n",
    "                \"temp\": \"TabsD\",\n",
    "                \"temp_min\": \"TminD\",\n",
    "                \"temp_max\": \"TmaxD\"\n",
    "            },\n",
    "            \"target\": {\n",
    "                \"precip\": \"RhiresD\",\n",
    "                \"temp\": \"TabsD\",\n",
    "                \"temp_min\": \"TminD\",\n",
    "                \"temp_max\": \"TmaxD\"\n",
    "            }\n",
    "        },\n",
    "        \"preprocessing\": {\n",
    "            \"nan_to_num\": True,\n",
    "            \"nan_value\": 0.0\n",
    "        }\n",
    "    }\n",
    ")\n",
    "\n",
    "dm.setup()\n"
   ]
  },
  {
   "cell_type": "code",
   "execution_count": 33,
   "id": "6cc9656a",
   "metadata": {},
   "outputs": [],
   "source": [
    "train_loader = dm.train_dataloader()\n",
    "train_batch = next(iter(train_loader))\n",
    "train_inputs, train_targets = train_batch\n",
    "\n",
    "# random timestep from the batch\n",
    "idx = random.randint(0, train_inputs.shape[0] - 1)\n",
    "input_sample = train_inputs[idx].unsqueeze(0)  #(1, channels, H, W)\n",
    "target_sample = train_targets[idx].unsqueeze(0)"
   ]
  },
  {
   "cell_type": "code",
   "execution_count": 34,
   "id": "af4c36ce",
   "metadata": {},
   "outputs": [
    {
     "name": "stdout",
     "output_type": "stream",
     "text": [
      "UNet output shape: torch.Size([1, 4, 240, 370])\n"
     ]
    }
   ],
   "source": [
    "# Pass through UNet\n",
    "with torch.no_grad():\n",
    "    unet_out = model_UNet(input_sample)\n",
    "\n",
    "print(\"UNet output shape:\", unet_out.shape)\n"
   ]
  },
  {
   "cell_type": "code",
   "execution_count": 35,
   "id": "c8b53a4e",
   "metadata": {},
   "outputs": [
    {
     "name": "stdout",
     "output_type": "stream",
     "text": [
      "VAE reconstruction shape: torch.Size([1, 16, 240, 368])\n"
     ]
    }
   ],
   "source": [
    "# Pass through VAE (encode and decode)\n",
    "with torch.no_grad():\n",
    "    latent_moments = model_VAE.encode(target_sample)\n",
    "    latent = latent_moments[0]  # usually mean\n",
    "    vae_recon = model_VAE.decode(latent)\n",
    "print(\"VAE reconstruction shape:\", vae_recon.shape)"
   ]
  },
  {
   "cell_type": "code",
   "execution_count": null,
   "id": "5377da59",
   "metadata": {},
   "outputs": [
    {
     "name": "stdout",
     "output_type": "stream",
     "text": [
      "Denoised latent shape: torch.Size([1, 32, 60, 92])\n"
     ]
    }
   ],
   "source": [
    "# through LDM denoiser \n",
    "timesteps = torch.tensor([2], dtype=torch.long)\n",
    "with torch.no_grad():\n",
    "    denoised = model_LDM.denoiser(latent, timesteps)\n",
    "\n",
    "print(\"Denoised latent shape:\", denoised.shape)"
   ]
  },
  {
   "cell_type": "code",
   "execution_count": null,
   "id": "a90e27f7",
   "metadata": {},
   "outputs": [
    {
     "name": "stdout",
     "output_type": "stream",
     "text": [
      "Reconstructed output shape: torch.Size([1, 16, 240, 368])\n"
     ]
    }
   ],
   "source": [
    "#Decodign after denoising \n",
    "with torch.no_grad():\n",
    "    reconstructed = model_VAE.decode(denoised)\n",
    "print(\"Reconstructed output shape:\", reconstructed.shape) #Shoukld be 4 channels, got 16"
   ]
  }
 ],
 "metadata": {
  "kernelspec": {
   "display_name": "diffscaler",
   "language": "python",
   "name": "python3"
  },
  "language_info": {
   "codemirror_mode": {
    "name": "ipython",
    "version": 3
   },
   "file_extension": ".py",
   "mimetype": "text/x-python",
   "name": "python",
   "nbconvert_exporter": "python",
   "pygments_lexer": "ipython3",
   "version": "3.9.23"
  }
 },
 "nbformat": 4,
 "nbformat_minor": 5
}
